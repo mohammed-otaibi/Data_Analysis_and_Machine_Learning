{
  "cells": [
    {
      "cell_type": "markdown",
      "metadata": {
        "id": "view-in-github",
        "colab_type": "text"
      },
      "source": [
        "<a href=\"https://colab.research.google.com/github/mohammed-otaibi/Data_Analysis_and_Machine_Learning/blob/main/titanic_dataset_analysis.ipynb\" target=\"_parent\"><img src=\"https://colab.research.google.com/assets/colab-badge.svg\" alt=\"Open In Colab\"/></a>"
      ]
    },
    {
      "cell_type": "code",
      "execution_count": 3,
      "id": "f9cbb0c0",
      "metadata": {
        "execution": {
          "iopub.execute_input": "2023-07-01T18:13:05.117054Z",
          "iopub.status.busy": "2023-07-01T18:13:05.116624Z",
          "iopub.status.idle": "2023-07-01T18:13:06.552702Z",
          "shell.execute_reply": "2023-07-01T18:13:06.550464Z"
        },
        "papermill": {
          "duration": 1.449601,
          "end_time": "2023-07-01T18:13:06.554880",
          "exception": false,
          "start_time": "2023-07-01T18:13:05.105279",
          "status": "completed"
        },
        "tags": [],
        "colab": {
          "base_uri": "https://localhost:8080/"
        },
        "id": "f9cbb0c0",
        "outputId": "13d6b091-ad0b-48f1-c6b2-12c6e7aba633"
      },
      "outputs": [
        {
          "output_type": "stream",
          "name": "stdout",
          "text": [
            "Pandas version: 1.5.3\n",
            "NumPy version: 1.22.4\n",
            "Matplotlib version: 3.7.1\n",
            "seaborn version: 0.12.2\n"
          ]
        }
      ],
      "source": [
        "import pandas as pd\n",
        "import numpy as np\n",
        "import matplotlib as mpl\n",
        "import matplotlib.pyplot as plt\n",
        "import seaborn as sns\n",
        "''' ------------------------------------------'''\n",
        "print(\"Pandas version:\", pd.__version__)\n",
        "print(\"NumPy version:\", np.__version__)\n",
        "print(\"Matplotlib version:\", mpl.__version__)\n",
        "print(\"seaborn version:\", sns.__version__)"
      ]
    },
    {
      "cell_type": "markdown",
      "id": "9c7a9f7f",
      "metadata": {
        "papermill": {
          "duration": 0.009138,
          "end_time": "2023-07-01T18:13:06.573533",
          "exception": false,
          "start_time": "2023-07-01T18:13:06.564395",
          "status": "completed"
        },
        "tags": [],
        "id": "9c7a9f7f"
      },
      "source": [
        "# Reading The dataset:"
      ]
    },
    {
      "cell_type": "code",
      "execution_count": 4,
      "id": "a08facd4",
      "metadata": {
        "execution": {
          "iopub.execute_input": "2023-07-01T18:13:06.593282Z",
          "iopub.status.busy": "2023-07-01T18:13:06.592893Z",
          "iopub.status.idle": "2023-07-01T18:13:06.624187Z",
          "shell.execute_reply": "2023-07-01T18:13:06.622762Z"
        },
        "papermill": {
          "duration": 0.043699,
          "end_time": "2023-07-01T18:13:06.626321",
          "exception": false,
          "start_time": "2023-07-01T18:13:06.582622",
          "status": "completed"
        },
        "tags": [],
        "colab": {
          "base_uri": "https://localhost:8080/"
        },
        "id": "a08facd4",
        "outputId": "7f67b0c3-adb3-4d0e-8589-56f1710615e7"
      },
      "outputs": [
        {
          "output_type": "stream",
          "name": "stdout",
          "text": [
            "Done\n"
          ]
        }
      ],
      "source": [
        "# Read the titanic dataset file\n",
        "data = pd.read_csv('/content/tested.csv')\n",
        "print(\"Done\")"
      ]
    },
    {
      "cell_type": "code",
      "source": [
        "from google.colab import drive\n",
        "drive.mount('/content/drive')"
      ],
      "metadata": {
        "colab": {
          "base_uri": "https://localhost:8080/"
        },
        "id": "WkJ5kYSdO-gT",
        "outputId": "30c2d08d-9b86-45ff-88db-e63ac2e1c3fe"
      },
      "id": "WkJ5kYSdO-gT",
      "execution_count": 5,
      "outputs": [
        {
          "output_type": "stream",
          "name": "stdout",
          "text": [
            "Mounted at /content/drive\n"
          ]
        }
      ]
    },
    {
      "cell_type": "markdown",
      "id": "3c16a19d",
      "metadata": {
        "papermill": {
          "duration": 0.008889,
          "end_time": "2023-07-01T18:13:06.644594",
          "exception": false,
          "start_time": "2023-07-01T18:13:06.635705",
          "status": "completed"
        },
        "tags": [],
        "id": "3c16a19d"
      },
      "source": [
        "# Exploring the dataset:"
      ]
    },
    {
      "cell_type": "code",
      "execution_count": 6,
      "id": "f9f04820",
      "metadata": {
        "execution": {
          "iopub.execute_input": "2023-07-01T18:13:06.664488Z",
          "iopub.status.busy": "2023-07-01T18:13:06.664109Z",
          "iopub.status.idle": "2023-07-01T18:13:06.670665Z",
          "shell.execute_reply": "2023-07-01T18:13:06.669855Z"
        },
        "papermill": {
          "duration": 0.019204,
          "end_time": "2023-07-01T18:13:06.672869",
          "exception": false,
          "start_time": "2023-07-01T18:13:06.653665",
          "status": "completed"
        },
        "tags": [],
        "colab": {
          "base_uri": "https://localhost:8080/"
        },
        "id": "f9f04820",
        "outputId": "c38abadd-843c-43fb-d8c1-7fdc1dbf6bea"
      },
      "outputs": [
        {
          "output_type": "execute_result",
          "data": {
            "text/plain": [
              "Index(['PassengerId', 'Survived', 'Pclass', 'Name', 'Sex', 'Age', 'SibSp',\n",
              "       'Parch', 'Ticket', 'Fare', 'Cabin', 'Embarked'],\n",
              "      dtype='object')"
            ]
          },
          "metadata": {},
          "execution_count": 6
        }
      ],
      "source": [
        "# dataset columns\n",
        "data.columns"
      ]
    },
    {
      "cell_type": "code",
      "execution_count": 7,
      "id": "6e3a8d49",
      "metadata": {
        "execution": {
          "iopub.execute_input": "2023-07-01T18:13:06.694448Z",
          "iopub.status.busy": "2023-07-01T18:13:06.693539Z",
          "iopub.status.idle": "2023-07-01T18:13:06.731243Z",
          "shell.execute_reply": "2023-07-01T18:13:06.730078Z"
        },
        "papermill": {
          "duration": 0.050606,
          "end_time": "2023-07-01T18:13:06.733075",
          "exception": false,
          "start_time": "2023-07-01T18:13:06.682469",
          "status": "completed"
        },
        "tags": [],
        "colab": {
          "base_uri": "https://localhost:8080/",
          "height": 214
        },
        "id": "6e3a8d49",
        "outputId": "560cd1a5-c70f-4ed5-8bfd-e9619112c860"
      },
      "outputs": [
        {
          "output_type": "execute_result",
          "data": {
            "text/plain": [
              "   PassengerId  Survived  Pclass  \\\n",
              "0          892         0       3   \n",
              "1          893         1       3   \n",
              "2          894         0       2   \n",
              "3          895         0       3   \n",
              "4          896         1       3   \n",
              "\n",
              "                                           Name     Sex   Age  SibSp  Parch  \\\n",
              "0                              Kelly, Mr. James    male  34.5      0      0   \n",
              "1              Wilkes, Mrs. James (Ellen Needs)  female  47.0      1      0   \n",
              "2                     Myles, Mr. Thomas Francis    male  62.0      0      0   \n",
              "3                              Wirz, Mr. Albert    male  27.0      0      0   \n",
              "4  Hirvonen, Mrs. Alexander (Helga E Lindqvist)  female  22.0      1      1   \n",
              "\n",
              "    Ticket     Fare Cabin Embarked  \n",
              "0   330911   7.8292   NaN        Q  \n",
              "1   363272   7.0000   NaN        S  \n",
              "2   240276   9.6875   NaN        Q  \n",
              "3   315154   8.6625   NaN        S  \n",
              "4  3101298  12.2875   NaN        S  "
            ],
            "text/html": [
              "\n",
              "  <div id=\"df-d87a8cbe-e45b-49cc-bf4a-e92616920a99\">\n",
              "    <div class=\"colab-df-container\">\n",
              "      <div>\n",
              "<style scoped>\n",
              "    .dataframe tbody tr th:only-of-type {\n",
              "        vertical-align: middle;\n",
              "    }\n",
              "\n",
              "    .dataframe tbody tr th {\n",
              "        vertical-align: top;\n",
              "    }\n",
              "\n",
              "    .dataframe thead th {\n",
              "        text-align: right;\n",
              "    }\n",
              "</style>\n",
              "<table border=\"1\" class=\"dataframe\">\n",
              "  <thead>\n",
              "    <tr style=\"text-align: right;\">\n",
              "      <th></th>\n",
              "      <th>PassengerId</th>\n",
              "      <th>Survived</th>\n",
              "      <th>Pclass</th>\n",
              "      <th>Name</th>\n",
              "      <th>Sex</th>\n",
              "      <th>Age</th>\n",
              "      <th>SibSp</th>\n",
              "      <th>Parch</th>\n",
              "      <th>Ticket</th>\n",
              "      <th>Fare</th>\n",
              "      <th>Cabin</th>\n",
              "      <th>Embarked</th>\n",
              "    </tr>\n",
              "  </thead>\n",
              "  <tbody>\n",
              "    <tr>\n",
              "      <th>0</th>\n",
              "      <td>892</td>\n",
              "      <td>0</td>\n",
              "      <td>3</td>\n",
              "      <td>Kelly, Mr. James</td>\n",
              "      <td>male</td>\n",
              "      <td>34.5</td>\n",
              "      <td>0</td>\n",
              "      <td>0</td>\n",
              "      <td>330911</td>\n",
              "      <td>7.8292</td>\n",
              "      <td>NaN</td>\n",
              "      <td>Q</td>\n",
              "    </tr>\n",
              "    <tr>\n",
              "      <th>1</th>\n",
              "      <td>893</td>\n",
              "      <td>1</td>\n",
              "      <td>3</td>\n",
              "      <td>Wilkes, Mrs. James (Ellen Needs)</td>\n",
              "      <td>female</td>\n",
              "      <td>47.0</td>\n",
              "      <td>1</td>\n",
              "      <td>0</td>\n",
              "      <td>363272</td>\n",
              "      <td>7.0000</td>\n",
              "      <td>NaN</td>\n",
              "      <td>S</td>\n",
              "    </tr>\n",
              "    <tr>\n",
              "      <th>2</th>\n",
              "      <td>894</td>\n",
              "      <td>0</td>\n",
              "      <td>2</td>\n",
              "      <td>Myles, Mr. Thomas Francis</td>\n",
              "      <td>male</td>\n",
              "      <td>62.0</td>\n",
              "      <td>0</td>\n",
              "      <td>0</td>\n",
              "      <td>240276</td>\n",
              "      <td>9.6875</td>\n",
              "      <td>NaN</td>\n",
              "      <td>Q</td>\n",
              "    </tr>\n",
              "    <tr>\n",
              "      <th>3</th>\n",
              "      <td>895</td>\n",
              "      <td>0</td>\n",
              "      <td>3</td>\n",
              "      <td>Wirz, Mr. Albert</td>\n",
              "      <td>male</td>\n",
              "      <td>27.0</td>\n",
              "      <td>0</td>\n",
              "      <td>0</td>\n",
              "      <td>315154</td>\n",
              "      <td>8.6625</td>\n",
              "      <td>NaN</td>\n",
              "      <td>S</td>\n",
              "    </tr>\n",
              "    <tr>\n",
              "      <th>4</th>\n",
              "      <td>896</td>\n",
              "      <td>1</td>\n",
              "      <td>3</td>\n",
              "      <td>Hirvonen, Mrs. Alexander (Helga E Lindqvist)</td>\n",
              "      <td>female</td>\n",
              "      <td>22.0</td>\n",
              "      <td>1</td>\n",
              "      <td>1</td>\n",
              "      <td>3101298</td>\n",
              "      <td>12.2875</td>\n",
              "      <td>NaN</td>\n",
              "      <td>S</td>\n",
              "    </tr>\n",
              "  </tbody>\n",
              "</table>\n",
              "</div>\n",
              "      <button class=\"colab-df-convert\" onclick=\"convertToInteractive('df-d87a8cbe-e45b-49cc-bf4a-e92616920a99')\"\n",
              "              title=\"Convert this dataframe to an interactive table.\"\n",
              "              style=\"display:none;\">\n",
              "        \n",
              "  <svg xmlns=\"http://www.w3.org/2000/svg\" height=\"24px\"viewBox=\"0 0 24 24\"\n",
              "       width=\"24px\">\n",
              "    <path d=\"M0 0h24v24H0V0z\" fill=\"none\"/>\n",
              "    <path d=\"M18.56 5.44l.94 2.06.94-2.06 2.06-.94-2.06-.94-.94-2.06-.94 2.06-2.06.94zm-11 1L8.5 8.5l.94-2.06 2.06-.94-2.06-.94L8.5 2.5l-.94 2.06-2.06.94zm10 10l.94 2.06.94-2.06 2.06-.94-2.06-.94-.94-2.06-.94 2.06-2.06.94z\"/><path d=\"M17.41 7.96l-1.37-1.37c-.4-.4-.92-.59-1.43-.59-.52 0-1.04.2-1.43.59L10.3 9.45l-7.72 7.72c-.78.78-.78 2.05 0 2.83L4 21.41c.39.39.9.59 1.41.59.51 0 1.02-.2 1.41-.59l7.78-7.78 2.81-2.81c.8-.78.8-2.07 0-2.86zM5.41 20L4 18.59l7.72-7.72 1.47 1.35L5.41 20z\"/>\n",
              "  </svg>\n",
              "      </button>\n",
              "      \n",
              "  <style>\n",
              "    .colab-df-container {\n",
              "      display:flex;\n",
              "      flex-wrap:wrap;\n",
              "      gap: 12px;\n",
              "    }\n",
              "\n",
              "    .colab-df-convert {\n",
              "      background-color: #E8F0FE;\n",
              "      border: none;\n",
              "      border-radius: 50%;\n",
              "      cursor: pointer;\n",
              "      display: none;\n",
              "      fill: #1967D2;\n",
              "      height: 32px;\n",
              "      padding: 0 0 0 0;\n",
              "      width: 32px;\n",
              "    }\n",
              "\n",
              "    .colab-df-convert:hover {\n",
              "      background-color: #E2EBFA;\n",
              "      box-shadow: 0px 1px 2px rgba(60, 64, 67, 0.3), 0px 1px 3px 1px rgba(60, 64, 67, 0.15);\n",
              "      fill: #174EA6;\n",
              "    }\n",
              "\n",
              "    [theme=dark] .colab-df-convert {\n",
              "      background-color: #3B4455;\n",
              "      fill: #D2E3FC;\n",
              "    }\n",
              "\n",
              "    [theme=dark] .colab-df-convert:hover {\n",
              "      background-color: #434B5C;\n",
              "      box-shadow: 0px 1px 3px 1px rgba(0, 0, 0, 0.15);\n",
              "      filter: drop-shadow(0px 1px 2px rgba(0, 0, 0, 0.3));\n",
              "      fill: #FFFFFF;\n",
              "    }\n",
              "  </style>\n",
              "\n",
              "      <script>\n",
              "        const buttonEl =\n",
              "          document.querySelector('#df-d87a8cbe-e45b-49cc-bf4a-e92616920a99 button.colab-df-convert');\n",
              "        buttonEl.style.display =\n",
              "          google.colab.kernel.accessAllowed ? 'block' : 'none';\n",
              "\n",
              "        async function convertToInteractive(key) {\n",
              "          const element = document.querySelector('#df-d87a8cbe-e45b-49cc-bf4a-e92616920a99');\n",
              "          const dataTable =\n",
              "            await google.colab.kernel.invokeFunction('convertToInteractive',\n",
              "                                                     [key], {});\n",
              "          if (!dataTable) return;\n",
              "\n",
              "          const docLinkHtml = 'Like what you see? Visit the ' +\n",
              "            '<a target=\"_blank\" href=https://colab.research.google.com/notebooks/data_table.ipynb>data table notebook</a>'\n",
              "            + ' to learn more about interactive tables.';\n",
              "          element.innerHTML = '';\n",
              "          dataTable['output_type'] = 'display_data';\n",
              "          await google.colab.output.renderOutput(dataTable, element);\n",
              "          const docLink = document.createElement('div');\n",
              "          docLink.innerHTML = docLinkHtml;\n",
              "          element.appendChild(docLink);\n",
              "        }\n",
              "      </script>\n",
              "    </div>\n",
              "  </div>\n",
              "  "
            ]
          },
          "metadata": {},
          "execution_count": 7
        }
      ],
      "source": [
        "data.head()"
      ]
    },
    {
      "cell_type": "code",
      "execution_count": 8,
      "id": "315c0196",
      "metadata": {
        "execution": {
          "iopub.execute_input": "2023-07-01T18:13:06.755448Z",
          "iopub.status.busy": "2023-07-01T18:13:06.755058Z",
          "iopub.status.idle": "2023-07-01T18:13:06.770091Z",
          "shell.execute_reply": "2023-07-01T18:13:06.769123Z"
        },
        "papermill": {
          "duration": 0.029979,
          "end_time": "2023-07-01T18:13:06.772713",
          "exception": false,
          "start_time": "2023-07-01T18:13:06.742734",
          "status": "completed"
        },
        "tags": [],
        "colab": {
          "base_uri": "https://localhost:8080/"
        },
        "id": "315c0196",
        "outputId": "08e8542d-5dcc-4a00-c31f-26e2cdaab757"
      },
      "outputs": [
        {
          "output_type": "stream",
          "name": "stdout",
          "text": [
            "   Survived  Pclass     Sex   Age     Fare Embarked\n",
            "0         0       3    male  34.5   7.8292        Q\n",
            "1         1       3  female  47.0   7.0000        S\n",
            "2         0       2    male  62.0   9.6875        Q\n",
            "3         0       3    male  27.0   8.6625        S\n",
            "4         1       3  female  22.0  12.2875        S\n"
          ]
        }
      ],
      "source": [
        "# drop some columns :\n",
        "data = data.drop(columns=['PassengerId', 'Name', 'SibSp', 'Parch', 'Ticket', 'Cabin'])\n",
        "print (data.head())"
      ]
    },
    {
      "cell_type": "code",
      "execution_count": 9,
      "id": "eb22626b",
      "metadata": {
        "execution": {
          "iopub.execute_input": "2023-07-01T18:13:06.794019Z",
          "iopub.status.busy": "2023-07-01T18:13:06.793425Z",
          "iopub.status.idle": "2023-07-01T18:13:06.801181Z",
          "shell.execute_reply": "2023-07-01T18:13:06.799463Z"
        },
        "papermill": {
          "duration": 0.020943,
          "end_time": "2023-07-01T18:13:06.803467",
          "exception": false,
          "start_time": "2023-07-01T18:13:06.782524",
          "status": "completed"
        },
        "tags": [],
        "colab": {
          "base_uri": "https://localhost:8080/"
        },
        "id": "eb22626b",
        "outputId": "abf7ffbf-59e0-49cf-8d59-ce904c400410"
      },
      "outputs": [
        {
          "output_type": "execute_result",
          "data": {
            "text/plain": [
              "Index(['Survived', 'Pclass', 'Sex', 'Age', 'Fare', 'Embarked'], dtype='object')"
            ]
          },
          "metadata": {},
          "execution_count": 9
        }
      ],
      "source": [
        "# print columns after edit:\n",
        "data.columns"
      ]
    },
    {
      "cell_type": "code",
      "execution_count": 10,
      "id": "7d5cbbd9",
      "metadata": {
        "execution": {
          "iopub.execute_input": "2023-07-01T18:13:06.824719Z",
          "iopub.status.busy": "2023-07-01T18:13:06.824343Z",
          "iopub.status.idle": "2023-07-01T18:13:06.846877Z",
          "shell.execute_reply": "2023-07-01T18:13:06.845829Z"
        },
        "papermill": {
          "duration": 0.035867,
          "end_time": "2023-07-01T18:13:06.849110",
          "exception": false,
          "start_time": "2023-07-01T18:13:06.813243",
          "status": "completed"
        },
        "tags": [],
        "colab": {
          "base_uri": "https://localhost:8080/",
          "height": 311
        },
        "id": "7d5cbbd9",
        "outputId": "7278fdeb-13a1-4e02-d1fe-a43fdcd2efd9"
      },
      "outputs": [
        {
          "output_type": "execute_result",
          "data": {
            "text/plain": [
              "         Survived      Pclass         Age        Fare\n",
              "count  418.000000  418.000000  332.000000  417.000000\n",
              "mean     0.363636    2.265550   30.272590   35.627188\n",
              "std      0.481622    0.841838   14.181209   55.907576\n",
              "min      0.000000    1.000000    0.170000    0.000000\n",
              "25%      0.000000    1.000000   21.000000    7.895800\n",
              "50%      0.000000    3.000000   27.000000   14.454200\n",
              "75%      1.000000    3.000000   39.000000   31.500000\n",
              "max      1.000000    3.000000   76.000000  512.329200"
            ],
            "text/html": [
              "\n",
              "  <div id=\"df-0278ed97-30c6-4f2d-ae27-0b9c1738feb8\">\n",
              "    <div class=\"colab-df-container\">\n",
              "      <div>\n",
              "<style scoped>\n",
              "    .dataframe tbody tr th:only-of-type {\n",
              "        vertical-align: middle;\n",
              "    }\n",
              "\n",
              "    .dataframe tbody tr th {\n",
              "        vertical-align: top;\n",
              "    }\n",
              "\n",
              "    .dataframe thead th {\n",
              "        text-align: right;\n",
              "    }\n",
              "</style>\n",
              "<table border=\"1\" class=\"dataframe\">\n",
              "  <thead>\n",
              "    <tr style=\"text-align: right;\">\n",
              "      <th></th>\n",
              "      <th>Survived</th>\n",
              "      <th>Pclass</th>\n",
              "      <th>Age</th>\n",
              "      <th>Fare</th>\n",
              "    </tr>\n",
              "  </thead>\n",
              "  <tbody>\n",
              "    <tr>\n",
              "      <th>count</th>\n",
              "      <td>418.000000</td>\n",
              "      <td>418.000000</td>\n",
              "      <td>332.000000</td>\n",
              "      <td>417.000000</td>\n",
              "    </tr>\n",
              "    <tr>\n",
              "      <th>mean</th>\n",
              "      <td>0.363636</td>\n",
              "      <td>2.265550</td>\n",
              "      <td>30.272590</td>\n",
              "      <td>35.627188</td>\n",
              "    </tr>\n",
              "    <tr>\n",
              "      <th>std</th>\n",
              "      <td>0.481622</td>\n",
              "      <td>0.841838</td>\n",
              "      <td>14.181209</td>\n",
              "      <td>55.907576</td>\n",
              "    </tr>\n",
              "    <tr>\n",
              "      <th>min</th>\n",
              "      <td>0.000000</td>\n",
              "      <td>1.000000</td>\n",
              "      <td>0.170000</td>\n",
              "      <td>0.000000</td>\n",
              "    </tr>\n",
              "    <tr>\n",
              "      <th>25%</th>\n",
              "      <td>0.000000</td>\n",
              "      <td>1.000000</td>\n",
              "      <td>21.000000</td>\n",
              "      <td>7.895800</td>\n",
              "    </tr>\n",
              "    <tr>\n",
              "      <th>50%</th>\n",
              "      <td>0.000000</td>\n",
              "      <td>3.000000</td>\n",
              "      <td>27.000000</td>\n",
              "      <td>14.454200</td>\n",
              "    </tr>\n",
              "    <tr>\n",
              "      <th>75%</th>\n",
              "      <td>1.000000</td>\n",
              "      <td>3.000000</td>\n",
              "      <td>39.000000</td>\n",
              "      <td>31.500000</td>\n",
              "    </tr>\n",
              "    <tr>\n",
              "      <th>max</th>\n",
              "      <td>1.000000</td>\n",
              "      <td>3.000000</td>\n",
              "      <td>76.000000</td>\n",
              "      <td>512.329200</td>\n",
              "    </tr>\n",
              "  </tbody>\n",
              "</table>\n",
              "</div>\n",
              "      <button class=\"colab-df-convert\" onclick=\"convertToInteractive('df-0278ed97-30c6-4f2d-ae27-0b9c1738feb8')\"\n",
              "              title=\"Convert this dataframe to an interactive table.\"\n",
              "              style=\"display:none;\">\n",
              "        \n",
              "  <svg xmlns=\"http://www.w3.org/2000/svg\" height=\"24px\"viewBox=\"0 0 24 24\"\n",
              "       width=\"24px\">\n",
              "    <path d=\"M0 0h24v24H0V0z\" fill=\"none\"/>\n",
              "    <path d=\"M18.56 5.44l.94 2.06.94-2.06 2.06-.94-2.06-.94-.94-2.06-.94 2.06-2.06.94zm-11 1L8.5 8.5l.94-2.06 2.06-.94-2.06-.94L8.5 2.5l-.94 2.06-2.06.94zm10 10l.94 2.06.94-2.06 2.06-.94-2.06-.94-.94-2.06-.94 2.06-2.06.94z\"/><path d=\"M17.41 7.96l-1.37-1.37c-.4-.4-.92-.59-1.43-.59-.52 0-1.04.2-1.43.59L10.3 9.45l-7.72 7.72c-.78.78-.78 2.05 0 2.83L4 21.41c.39.39.9.59 1.41.59.51 0 1.02-.2 1.41-.59l7.78-7.78 2.81-2.81c.8-.78.8-2.07 0-2.86zM5.41 20L4 18.59l7.72-7.72 1.47 1.35L5.41 20z\"/>\n",
              "  </svg>\n",
              "      </button>\n",
              "      \n",
              "  <style>\n",
              "    .colab-df-container {\n",
              "      display:flex;\n",
              "      flex-wrap:wrap;\n",
              "      gap: 12px;\n",
              "    }\n",
              "\n",
              "    .colab-df-convert {\n",
              "      background-color: #E8F0FE;\n",
              "      border: none;\n",
              "      border-radius: 50%;\n",
              "      cursor: pointer;\n",
              "      display: none;\n",
              "      fill: #1967D2;\n",
              "      height: 32px;\n",
              "      padding: 0 0 0 0;\n",
              "      width: 32px;\n",
              "    }\n",
              "\n",
              "    .colab-df-convert:hover {\n",
              "      background-color: #E2EBFA;\n",
              "      box-shadow: 0px 1px 2px rgba(60, 64, 67, 0.3), 0px 1px 3px 1px rgba(60, 64, 67, 0.15);\n",
              "      fill: #174EA6;\n",
              "    }\n",
              "\n",
              "    [theme=dark] .colab-df-convert {\n",
              "      background-color: #3B4455;\n",
              "      fill: #D2E3FC;\n",
              "    }\n",
              "\n",
              "    [theme=dark] .colab-df-convert:hover {\n",
              "      background-color: #434B5C;\n",
              "      box-shadow: 0px 1px 3px 1px rgba(0, 0, 0, 0.15);\n",
              "      filter: drop-shadow(0px 1px 2px rgba(0, 0, 0, 0.3));\n",
              "      fill: #FFFFFF;\n",
              "    }\n",
              "  </style>\n",
              "\n",
              "      <script>\n",
              "        const buttonEl =\n",
              "          document.querySelector('#df-0278ed97-30c6-4f2d-ae27-0b9c1738feb8 button.colab-df-convert');\n",
              "        buttonEl.style.display =\n",
              "          google.colab.kernel.accessAllowed ? 'block' : 'none';\n",
              "\n",
              "        async function convertToInteractive(key) {\n",
              "          const element = document.querySelector('#df-0278ed97-30c6-4f2d-ae27-0b9c1738feb8');\n",
              "          const dataTable =\n",
              "            await google.colab.kernel.invokeFunction('convertToInteractive',\n",
              "                                                     [key], {});\n",
              "          if (!dataTable) return;\n",
              "\n",
              "          const docLinkHtml = 'Like what you see? Visit the ' +\n",
              "            '<a target=\"_blank\" href=https://colab.research.google.com/notebooks/data_table.ipynb>data table notebook</a>'\n",
              "            + ' to learn more about interactive tables.';\n",
              "          element.innerHTML = '';\n",
              "          dataTable['output_type'] = 'display_data';\n",
              "          await google.colab.output.renderOutput(dataTable, element);\n",
              "          const docLink = document.createElement('div');\n",
              "          docLink.innerHTML = docLinkHtml;\n",
              "          element.appendChild(docLink);\n",
              "        }\n",
              "      </script>\n",
              "    </div>\n",
              "  </div>\n",
              "  "
            ]
          },
          "metadata": {},
          "execution_count": 10
        }
      ],
      "source": [
        "data.describe()"
      ]
    },
    {
      "cell_type": "code",
      "execution_count": 11,
      "id": "92f8f572",
      "metadata": {
        "execution": {
          "iopub.execute_input": "2023-07-01T18:13:06.870813Z",
          "iopub.status.busy": "2023-07-01T18:13:06.870283Z",
          "iopub.status.idle": "2023-07-01T18:13:06.878411Z",
          "shell.execute_reply": "2023-07-01T18:13:06.877345Z"
        },
        "papermill": {
          "duration": 0.021342,
          "end_time": "2023-07-01T18:13:06.880494",
          "exception": false,
          "start_time": "2023-07-01T18:13:06.859152",
          "status": "completed"
        },
        "tags": [],
        "colab": {
          "base_uri": "https://localhost:8080/"
        },
        "id": "92f8f572",
        "outputId": "31497fef-d0db-4940-e289-66630869aa97"
      },
      "outputs": [
        {
          "output_type": "execute_result",
          "data": {
            "text/plain": [
              "Survived     0\n",
              "Pclass       0\n",
              "Sex          0\n",
              "Age         86\n",
              "Fare         1\n",
              "Embarked     0\n",
              "dtype: int64"
            ]
          },
          "metadata": {},
          "execution_count": 11
        }
      ],
      "source": [
        "data.isnull().sum()"
      ]
    },
    {
      "cell_type": "markdown",
      "id": "29791912",
      "metadata": {
        "papermill": {
          "duration": 0.009709,
          "end_time": "2023-07-01T18:13:06.900366",
          "exception": false,
          "start_time": "2023-07-01T18:13:06.890657",
          "status": "completed"
        },
        "tags": [],
        "id": "29791912"
      },
      "source": [
        "#### In the previous table, it is evident that there are some missing data that need to be addressed and handled."
      ]
    },
    {
      "cell_type": "markdown",
      "id": "7a387909",
      "metadata": {
        "papermill": {
          "duration": 0.009877,
          "end_time": "2023-07-01T18:13:06.920270",
          "exception": false,
          "start_time": "2023-07-01T18:13:06.910393",
          "status": "completed"
        },
        "tags": [],
        "id": "7a387909"
      },
      "source": [
        "# **Cleaning the dataset:**"
      ]
    },
    {
      "cell_type": "code",
      "execution_count": 12,
      "id": "9969b567",
      "metadata": {
        "execution": {
          "iopub.execute_input": "2023-07-01T18:13:06.942535Z",
          "iopub.status.busy": "2023-07-01T18:13:06.941876Z",
          "iopub.status.idle": "2023-07-01T18:13:06.948490Z",
          "shell.execute_reply": "2023-07-01T18:13:06.947221Z"
        },
        "papermill": {
          "duration": 0.019674,
          "end_time": "2023-07-01T18:13:06.950361",
          "exception": false,
          "start_time": "2023-07-01T18:13:06.930687",
          "status": "completed"
        },
        "tags": [],
        "colab": {
          "base_uri": "https://localhost:8080/"
        },
        "id": "9969b567",
        "outputId": "deb7fb36-e63e-45bc-e451-f533f96a4500"
      },
      "outputs": [
        {
          "output_type": "stream",
          "name": "stdout",
          "text": [
            "Survived      int64\n",
            "Pclass        int64\n",
            "Sex          object\n",
            "Age         float64\n",
            "Fare        float64\n",
            "Embarked     object\n",
            "dtype: object\n"
          ]
        }
      ],
      "source": [
        "# printing the data type of each column in this dataset\n",
        "print(data.dtypes)\n"
      ]
    },
    {
      "cell_type": "markdown",
      "id": "e4dd8ff1",
      "metadata": {
        "papermill": {
          "duration": 0.010018,
          "end_time": "2023-07-01T18:13:06.970644",
          "exception": false,
          "start_time": "2023-07-01T18:13:06.960626",
          "status": "completed"
        },
        "tags": [],
        "id": "e4dd8ff1"
      },
      "source": [
        "The Fare column has 1 missing value, and I will replace him with data['Fare'].mean():"
      ]
    },
    {
      "cell_type": "code",
      "execution_count": 13,
      "id": "fd2ace93",
      "metadata": {
        "execution": {
          "iopub.execute_input": "2023-07-01T18:13:06.993003Z",
          "iopub.status.busy": "2023-07-01T18:13:06.992467Z",
          "iopub.status.idle": "2023-07-01T18:13:06.999351Z",
          "shell.execute_reply": "2023-07-01T18:13:06.998069Z"
        },
        "papermill": {
          "duration": 0.020655,
          "end_time": "2023-07-01T18:13:07.001479",
          "exception": false,
          "start_time": "2023-07-01T18:13:06.980824",
          "status": "completed"
        },
        "tags": [],
        "colab": {
          "base_uri": "https://localhost:8080/"
        },
        "id": "fd2ace93",
        "outputId": "85ff6681-7e3b-4979-ec91-100e6ff6e0eb"
      },
      "outputs": [
        {
          "output_type": "stream",
          "name": "stdout",
          "text": [
            "The data['Fare'] missing val =\t 0\n"
          ]
        }
      ],
      "source": [
        "data['Fare'].fillna(data['Fare'].mean(), inplace=True)\n",
        "print (\"The data['Fare'] missing val =\\t\",data[\"Fare\"].isnull().sum())"
      ]
    },
    {
      "cell_type": "markdown",
      "id": "70bebfd2",
      "metadata": {
        "papermill": {
          "duration": 0.009503,
          "end_time": "2023-07-01T18:13:07.021144",
          "exception": false,
          "start_time": "2023-07-01T18:13:07.011641",
          "status": "completed"
        },
        "tags": [],
        "id": "70bebfd2"
      },
      "source": [
        "### * Dealing with missing data in the 'Age' column:\n",
        "* I will create a linear regression model to predict missing ages."
      ]
    },
    {
      "cell_type": "markdown",
      "id": "28732c2b",
      "metadata": {
        "papermill": {
          "duration": 0.009955,
          "end_time": "2023-07-01T18:13:07.041815",
          "exception": false,
          "start_time": "2023-07-01T18:13:07.031860",
          "status": "completed"
        },
        "tags": [],
        "id": "28732c2b"
      },
      "source": [
        "Lets see the data destribution in age column before predict the missing values and after predict the missing values."
      ]
    },
    {
      "cell_type": "code",
      "execution_count": 14,
      "id": "a1d0b0dd",
      "metadata": {
        "execution": {
          "iopub.execute_input": "2023-07-01T18:13:07.063719Z",
          "iopub.status.busy": "2023-07-01T18:13:07.063098Z",
          "iopub.status.idle": "2023-07-01T18:13:07.349736Z",
          "shell.execute_reply": "2023-07-01T18:13:07.348426Z"
        },
        "papermill": {
          "duration": 0.30027,
          "end_time": "2023-07-01T18:13:07.351962",
          "exception": false,
          "start_time": "2023-07-01T18:13:07.051692",
          "status": "completed"
        },
        "tags": [],
        "colab": {
          "base_uri": "https://localhost:8080/",
          "height": 450
        },
        "id": "a1d0b0dd",
        "outputId": "393b57e1-1ebf-4fea-fa26-d671ec421c5a"
      },
      "outputs": [
        {
          "output_type": "execute_result",
          "data": {
            "text/plain": [
              "<Axes: >"
            ]
          },
          "metadata": {},
          "execution_count": 14
        },
        {
          "output_type": "display_data",
          "data": {
            "text/plain": [
              "<Figure size 640x480 with 1 Axes>"
            ],
            "image/png": "[encoded data removed]"
          },
          "metadata": {}
        }
      ],
      "source": [
        "#before predict the missing values\n",
        "data['Age'].hist()"
      ]
    },
    {
      "cell_type": "markdown",
      "id": "2bf44d7a",
      "metadata": {
        "papermill": {
          "duration": 0.009733,
          "end_time": "2023-07-01T18:13:07.371836",
          "exception": false,
          "start_time": "2023-07-01T18:13:07.362103",
          "status": "completed"
        },
        "tags": [],
        "id": "2bf44d7a"
      },
      "source": [
        "Now lets build the model to predict the missing values in the age column."
      ]
    },
    {
      "cell_type": "code",
      "execution_count": 15,
      "id": "7cdd0c4e",
      "metadata": {
        "execution": {
          "iopub.execute_input": "2023-07-01T18:13:07.394220Z",
          "iopub.status.busy": "2023-07-01T18:13:07.393811Z",
          "iopub.status.idle": "2023-07-01T18:13:07.796969Z",
          "shell.execute_reply": "2023-07-01T18:13:07.796035Z"
        },
        "papermill": {
          "duration": 0.417354,
          "end_time": "2023-07-01T18:13:07.799598",
          "exception": false,
          "start_time": "2023-07-01T18:13:07.382244",
          "status": "completed"
        },
        "tags": [],
        "colab": {
          "base_uri": "https://localhost:8080/"
        },
        "id": "7cdd0c4e",
        "outputId": "cb9df8e0-dcaf-41c3-f6c4-acc78d8a5ee7"
      },
      "outputs": [
        {
          "output_type": "stream",
          "name": "stdout",
          "text": [
            "done\n"
          ]
        }
      ],
      "source": [
        "from sklearn.linear_model import LinearRegression\n",
        "\n",
        "# Create a subset of the dataset with non-missing age values\n",
        "age_df = data[['Survived', 'Pclass', 'Age', 'Fare']]  # Include relevant features\n",
        "\n",
        "# Split into two subsets: one with missing ages and one without\n",
        "known_age = age_df.loc[age_df['Age'].notna()]\n",
        "unknown_age = age_df.loc[age_df['Age'].isna()]\n",
        "\n",
        "# Create a linear regression model to predict missing ages\n",
        "model = LinearRegression()\n",
        "model.fit(known_age.drop('Age', axis=1), known_age['Age'])\n",
        "predicted_age = model.predict(unknown_age.drop('Age', axis=1))\n",
        "\n",
        "# Fill in the missing age values with the predicted values\n",
        "data.loc[data['Age'].isna(), 'Age'] = predicted_age\n",
        "print(\"done\")"
      ]
    },
    {
      "cell_type": "code",
      "execution_count": 16,
      "id": "4ff7203f",
      "metadata": {
        "execution": {
          "iopub.execute_input": "2023-07-01T18:13:07.822825Z",
          "iopub.status.busy": "2023-07-01T18:13:07.822490Z",
          "iopub.status.idle": "2023-07-01T18:13:07.828498Z",
          "shell.execute_reply": "2023-07-01T18:13:07.827246Z"
        },
        "papermill": {
          "duration": 0.020767,
          "end_time": "2023-07-01T18:13:07.831034",
          "exception": false,
          "start_time": "2023-07-01T18:13:07.810267",
          "status": "completed"
        },
        "tags": [],
        "colab": {
          "base_uri": "https://localhost:8080/"
        },
        "id": "4ff7203f",
        "outputId": "764c818d-8dfb-4107-e262-4008534a80c4"
      },
      "outputs": [
        {
          "output_type": "stream",
          "name": "stdout",
          "text": [
            "The data['Age'] missing val =\t 0\n"
          ]
        }
      ],
      "source": [
        "print (\"The data['Age'] missing val =\\t\",data[\"Age\"].isnull().sum())"
      ]
    },
    {
      "cell_type": "code",
      "execution_count": 17,
      "id": "3e1b4e47",
      "metadata": {
        "execution": {
          "iopub.execute_input": "2023-07-01T18:13:07.853324Z",
          "iopub.status.busy": "2023-07-01T18:13:07.852968Z",
          "iopub.status.idle": "2023-07-01T18:13:08.070694Z",
          "shell.execute_reply": "2023-07-01T18:13:08.069944Z"
        },
        "papermill": {
          "duration": 0.231503,
          "end_time": "2023-07-01T18:13:08.073005",
          "exception": false,
          "start_time": "2023-07-01T18:13:07.841502",
          "status": "completed"
        },
        "tags": [],
        "colab": {
          "base_uri": "https://localhost:8080/",
          "height": 450
        },
        "id": "3e1b4e47",
        "outputId": "b350ad15-e4b0-4311-9b9a-fda0bac159d0"
      },
      "outputs": [
        {
          "output_type": "execute_result",
          "data": {
            "text/plain": [
              "<Axes: >"
            ]
          },
          "metadata": {},
          "execution_count": 17
        },
        {
          "output_type": "display_data",
          "data": {
            "text/plain": [
              "<Figure size 640x480 with 1 Axes>"
            ],
            "image/png": "[encoded data removed]"
          },
          "metadata": {}
        }
      ],
      "source": [
        "#After predict the missing values in data['Age']\n",
        "data['Age'].hist()"
      ]
    },
    {
      "cell_type": "markdown",
      "id": "af61cba2",
      "metadata": {
        "papermill": {
          "duration": 0.010218,
          "end_time": "2023-07-01T18:13:08.094695",
          "exception": false,
          "start_time": "2023-07-01T18:13:08.084477",
          "status": "completed"
        },
        "tags": [],
        "id": "af61cba2"
      },
      "source": [
        "## Wow incridable"
      ]
    },
    {
      "cell_type": "code",
      "execution_count": 18,
      "id": "d7bd3f40",
      "metadata": {
        "execution": {
          "iopub.execute_input": "2023-07-01T18:13:08.117896Z",
          "iopub.status.busy": "2023-07-01T18:13:08.116851Z",
          "iopub.status.idle": "2023-07-01T18:13:08.126192Z",
          "shell.execute_reply": "2023-07-01T18:13:08.125324Z"
        },
        "papermill": {
          "duration": 0.023479,
          "end_time": "2023-07-01T18:13:08.128617",
          "exception": false,
          "start_time": "2023-07-01T18:13:08.105138",
          "status": "completed"
        },
        "tags": [],
        "colab": {
          "base_uri": "https://localhost:8080/"
        },
        "id": "d7bd3f40",
        "outputId": "0e166fb2-44b0-4130-f543-df6de34c9247"
      },
      "outputs": [
        {
          "output_type": "stream",
          "name": "stdout",
          "text": [
            "The total of missing values in each column:\n",
            "\n"
          ]
        },
        {
          "output_type": "execute_result",
          "data": {
            "text/plain": [
              "Survived    0\n",
              "Pclass      0\n",
              "Sex         0\n",
              "Age         0\n",
              "Fare        0\n",
              "Embarked    0\n",
              "dtype: int64"
            ]
          },
          "metadata": {},
          "execution_count": 18
        }
      ],
      "source": [
        "print (\"The total of missing values in each column:\\n\");data.isnull().sum()"
      ]
    },
    {
      "cell_type": "code",
      "execution_count": 18,
      "id": "cf2a18ac",
      "metadata": {
        "papermill": {
          "duration": 0.010061,
          "end_time": "2023-07-01T18:13:08.149190",
          "exception": false,
          "start_time": "2023-07-01T18:13:08.139129",
          "status": "completed"
        },
        "tags": [],
        "id": "cf2a18ac"
      },
      "outputs": [],
      "source": []
    },
    {
      "cell_type": "markdown",
      "id": "541219df",
      "metadata": {
        "papermill": {
          "duration": 0.010423,
          "end_time": "2023-07-01T18:13:08.170045",
          "exception": false,
          "start_time": "2023-07-01T18:13:08.159622",
          "status": "completed"
        },
        "tags": [],
        "id": "541219df"
      },
      "source": [
        "# There are some outliers I well drop the outliers from the Fare column by using pandas.quantile() function."
      ]
    },
    {
      "cell_type": "code",
      "execution_count": 18,
      "id": "40e9d8a5",
      "metadata": {
        "papermill": {
          "duration": 0.010764,
          "end_time": "2023-07-01T18:13:08.191778",
          "exception": false,
          "start_time": "2023-07-01T18:13:08.181014",
          "status": "completed"
        },
        "tags": [],
        "id": "40e9d8a5"
      },
      "outputs": [],
      "source": []
    },
    {
      "cell_type": "markdown",
      "id": "fa19a697",
      "metadata": {
        "papermill": {
          "duration": 0.01039,
          "end_time": "2023-07-01T18:13:08.213070",
          "exception": false,
          "start_time": "2023-07-01T18:13:08.202680",
          "status": "completed"
        },
        "tags": [],
        "id": "fa19a697"
      },
      "source": [
        "# Explaining the dataset:"
      ]
    },
    {
      "cell_type": "markdown",
      "id": "6f9b93ed",
      "metadata": {
        "papermill": {
          "duration": 0.010176,
          "end_time": "2023-07-01T18:13:08.233895",
          "exception": false,
          "start_time": "2023-07-01T18:13:08.223719",
          "status": "completed"
        },
        "tags": [],
        "id": "6f9b93ed"
      },
      "source": [
        "The Survived column indicates whether the passenger survived (value 1) or not (value 0) in the Titanic shipwreck."
      ]
    },
    {
      "cell_type": "code",
      "execution_count": 19,
      "id": "ec715d0b",
      "metadata": {
        "execution": {
          "iopub.execute_input": "2023-07-01T18:13:08.256759Z",
          "iopub.status.busy": "2023-07-01T18:13:08.256375Z",
          "iopub.status.idle": "2023-07-01T18:13:08.262934Z",
          "shell.execute_reply": "2023-07-01T18:13:08.261658Z"
        },
        "papermill": {
          "duration": 0.020629,
          "end_time": "2023-07-01T18:13:08.265072",
          "exception": false,
          "start_time": "2023-07-01T18:13:08.244443",
          "status": "completed"
        },
        "tags": [],
        "colab": {
          "base_uri": "https://localhost:8080/"
        },
        "id": "ec715d0b",
        "outputId": "3954d6a2-d442-44cf-c320-e78f8585e163"
      },
      "outputs": [
        {
          "output_type": "stream",
          "name": "stdout",
          "text": [
            "Average of Survived: 0.36363636363636365\n"
          ]
        }
      ],
      "source": [
        "# Calculate the average of \"Survived\"\n",
        "survived_average = data[\"Survived\"].mean()\n",
        "\n",
        "# Print the average\n",
        "print(\"Average of Survived:\", survived_average)\n",
        "\n",
        "\n"
      ]
    },
    {
      "cell_type": "markdown",
      "id": "ea676a6e",
      "metadata": {
        "papermill": {
          "duration": 0.010818,
          "end_time": "2023-07-01T18:13:08.287025",
          "exception": false,
          "start_time": "2023-07-01T18:13:08.276207",
          "status": "completed"
        },
        "tags": [],
        "id": "ea676a6e"
      },
      "source": [
        "* Based on the given information that the survival rate of the Titanic shipwreck is approximately (36%) only.\n",
        "* The sinking of the Titanic resulted in a significant loss of life, with a majority of the passengers not surviving the disaster.\n"
      ]
    },
    {
      "cell_type": "code",
      "execution_count": 19,
      "id": "53719698",
      "metadata": {
        "papermill": {
          "duration": 0.010647,
          "end_time": "2023-07-01T18:13:08.308596",
          "exception": false,
          "start_time": "2023-07-01T18:13:08.297949",
          "status": "completed"
        },
        "tags": [],
        "id": "53719698"
      },
      "outputs": [],
      "source": []
    },
    {
      "cell_type": "markdown",
      "id": "a418489a",
      "metadata": {
        "papermill": {
          "duration": 0.010425,
          "end_time": "2023-07-01T18:13:08.329900",
          "exception": false,
          "start_time": "2023-07-01T18:13:08.319475",
          "status": "completed"
        },
        "tags": [],
        "id": "a418489a"
      },
      "source": [
        "# Studying the relationship between the 'Survived' column and the other columns."
      ]
    },
    {
      "cell_type": "markdown",
      "id": "0dfa50f7",
      "metadata": {
        "papermill": {
          "duration": 0.010323,
          "end_time": "2023-07-01T18:13:08.350942",
          "exception": false,
          "start_time": "2023-07-01T18:13:08.340619",
          "status": "completed"
        },
        "tags": [],
        "id": "0dfa50f7"
      },
      "source": [
        "### Lets maping sex column to male=1 , and female=2 and creating a new column:"
      ]
    },
    {
      "cell_type": "code",
      "execution_count": 20,
      "id": "9ec2fec7",
      "metadata": {
        "execution": {
          "iopub.execute_input": "2023-07-01T18:13:08.373549Z",
          "iopub.status.busy": "2023-07-01T18:13:08.373214Z",
          "iopub.status.idle": "2023-07-01T18:13:08.384979Z",
          "shell.execute_reply": "2023-07-01T18:13:08.384225Z"
        },
        "papermill": {
          "duration": 0.025215,
          "end_time": "2023-07-01T18:13:08.386672",
          "exception": false,
          "start_time": "2023-07-01T18:13:08.361457",
          "status": "completed"
        },
        "tags": [],
        "colab": {
          "base_uri": "https://localhost:8080/",
          "height": 702
        },
        "id": "9ec2fec7",
        "outputId": "ab0630ff-d320-4a2a-9255-7069d93356e8"
      },
      "outputs": [
        {
          "output_type": "execute_result",
          "data": {
            "text/plain": [
              "       Sex  Sex_Encoded\n",
              "0     male            1\n",
              "1   female            2\n",
              "2     male            1\n",
              "3     male            1\n",
              "4   female            2\n",
              "5     male            1\n",
              "6   female            2\n",
              "7     male            1\n",
              "8   female            2\n",
              "9     male            1\n",
              "10    male            1\n",
              "11    male            1\n",
              "12  female            2\n",
              "13    male            1\n",
              "14  female            2\n",
              "15  female            2\n",
              "16    male            1\n",
              "17    male            1\n",
              "18  female            2\n",
              "19  female            2"
            ],
            "text/html": [
              "\n",
              "  <div id=\"df-20579466-063f-4da6-aa15-d010f1d8cec4\">\n",
              "    <div class=\"colab-df-container\">\n",
              "      <div>\n",
              "<style scoped>\n",
              "    .dataframe tbody tr th:only-of-type {\n",
              "        vertical-align: middle;\n",
              "    }\n",
              "\n",
              "    .dataframe tbody tr th {\n",
              "        vertical-align: top;\n",
              "    }\n",
              "\n",
              "    .dataframe thead th {\n",
              "        text-align: right;\n",
              "    }\n",
              "</style>\n",
              "<table border=\"1\" class=\"dataframe\">\n",
              "  <thead>\n",
              "    <tr style=\"text-align: right;\">\n",
              "      <th></th>\n",
              "      <th>Sex</th>\n",
              "      <th>Sex_Encoded</th>\n",
              "    </tr>\n",
              "  </thead>\n",
              "  <tbody>\n",
              "    <tr>\n",
              "      <th>0</th>\n",
              "      <td>male</td>\n",
              "      <td>1</td>\n",
              "    </tr>\n",
              "    <tr>\n",
              "      <th>1</th>\n",
              "      <td>female</td>\n",
              "      <td>2</td>\n",
              "    </tr>\n",
              "    <tr>\n",
              "      <th>2</th>\n",
              "      <td>male</td>\n",
              "      <td>1</td>\n",
              "    </tr>\n",
              "    <tr>\n",
              "      <th>3</th>\n",
              "      <td>male</td>\n",
              "      <td>1</td>\n",
              "    </tr>\n",
              "    <tr>\n",
              "      <th>4</th>\n",
              "      <td>female</td>\n",
              "      <td>2</td>\n",
              "    </tr>\n",
              "    <tr>\n",
              "      <th>5</th>\n",
              "      <td>male</td>\n",
              "      <td>1</td>\n",
              "    </tr>\n",
              "    <tr>\n",
              "      <th>6</th>\n",
              "      <td>female</td>\n",
              "      <td>2</td>\n",
              "    </tr>\n",
              "    <tr>\n",
              "      <th>7</th>\n",
              "      <td>male</td>\n",
              "      <td>1</td>\n",
              "    </tr>\n",
              "    <tr>\n",
              "      <th>8</th>\n",
              "      <td>female</td>\n",
              "      <td>2</td>\n",
              "    </tr>\n",
              "    <tr>\n",
              "      <th>9</th>\n",
              "      <td>male</td>\n",
              "      <td>1</td>\n",
              "    </tr>\n",
              "    <tr>\n",
              "      <th>10</th>\n",
              "      <td>male</td>\n",
              "      <td>1</td>\n",
              "    </tr>\n",
              "    <tr>\n",
              "      <th>11</th>\n",
              "      <td>male</td>\n",
              "      <td>1</td>\n",
              "    </tr>\n",
              "    <tr>\n",
              "      <th>12</th>\n",
              "      <td>female</td>\n",
              "      <td>2</td>\n",
              "    </tr>\n",
              "    <tr>\n",
              "      <th>13</th>\n",
              "      <td>male</td>\n",
              "      <td>1</td>\n",
              "    </tr>\n",
              "    <tr>\n",
              "      <th>14</th>\n",
              "      <td>female</td>\n",
              "      <td>2</td>\n",
              "    </tr>\n",
              "    <tr>\n",
              "      <th>15</th>\n",
              "      <td>female</td>\n",
              "      <td>2</td>\n",
              "    </tr>\n",
              "    <tr>\n",
              "      <th>16</th>\n",
              "      <td>male</td>\n",
              "      <td>1</td>\n",
              "    </tr>\n",
              "    <tr>\n",
              "      <th>17</th>\n",
              "      <td>male</td>\n",
              "      <td>1</td>\n",
              "    </tr>\n",
              "    <tr>\n",
              "      <th>18</th>\n",
              "      <td>female</td>\n",
              "      <td>2</td>\n",
              "    </tr>\n",
              "    <tr>\n",
              "      <th>19</th>\n",
              "      <td>female</td>\n",
              "      <td>2</td>\n",
              "    </tr>\n",
              "  </tbody>\n",
              "</table>\n",
              "</div>\n",
              "      <button class=\"colab-df-convert\" onclick=\"convertToInteractive('df-20579466-063f-4da6-aa15-d010f1d8cec4')\"\n",
              "              title=\"Convert this dataframe to an interactive table.\"\n",
              "              style=\"display:none;\">\n",
              "        \n",
              "  <svg xmlns=\"http://www.w3.org/2000/svg\" height=\"24px\"viewBox=\"0 0 24 24\"\n",
              "       width=\"24px\">\n",
              "    <path d=\"M0 0h24v24H0V0z\" fill=\"none\"/>\n",
              "    <path d=\"M18.56 5.44l.94 2.06.94-2.06 2.06-.94-2.06-.94-.94-2.06-.94 2.06-2.06.94zm-11 1L8.5 8.5l.94-2.06 2.06-.94-2.06-.94L8.5 2.5l-.94 2.06-2.06.94zm10 10l.94 2.06.94-2.06 2.06-.94-2.06-.94-.94-2.06-.94 2.06-2.06.94z\"/><path d=\"M17.41 7.96l-1.37-1.37c-.4-.4-.92-.59-1.43-.59-.52 0-1.04.2-1.43.59L10.3 9.45l-7.72 7.72c-.78.78-.78 2.05 0 2.83L4 21.41c.39.39.9.59 1.41.59.51 0 1.02-.2 1.41-.59l7.78-7.78 2.81-2.81c.8-.78.8-2.07 0-2.86zM5.41 20L4 18.59l7.72-7.72 1.47 1.35L5.41 20z\"/>\n",
              "  </svg>\n",
              "      </button>\n",
              "      \n",
              "  <style>\n",
              "    .colab-df-container {\n",
              "      display:flex;\n",
              "      flex-wrap:wrap;\n",
              "      gap: 12px;\n",
              "    }\n",
              "\n",
              "    .colab-df-convert {\n",
              "      background-color: #E8F0FE;\n",
              "      border: none;\n",
              "      border-radius: 50%;\n",
              "      cursor: pointer;\n",
              "      display: none;\n",
              "      fill: #1967D2;\n",
              "      height: 32px;\n",
              "      padding: 0 0 0 0;\n",
              "      width: 32px;\n",
              "    }\n",
              "\n",
              "    .colab-df-convert:hover {\n",
              "      background-color: #E2EBFA;\n",
              "      box-shadow: 0px 1px 2px rgba(60, 64, 67, 0.3), 0px 1px 3px 1px rgba(60, 64, 67, 0.15);\n",
              "      fill: #174EA6;\n",
              "    }\n",
              "\n",
              "    [theme=dark] .colab-df-convert {\n",
              "      background-color: #3B4455;\n",
              "      fill: #D2E3FC;\n",
              "    }\n",
              "\n",
              "    [theme=dark] .colab-df-convert:hover {\n",
              "      background-color: #434B5C;\n",
              "      box-shadow: 0px 1px 3px 1px rgba(0, 0, 0, 0.15);\n",
              "      filter: drop-shadow(0px 1px 2px rgba(0, 0, 0, 0.3));\n",
              "      fill: #FFFFFF;\n",
              "    }\n",
              "  </style>\n",
              "\n",
              "      <script>\n",
              "        const buttonEl =\n",
              "          document.querySelector('#df-20579466-063f-4da6-aa15-d010f1d8cec4 button.colab-df-convert');\n",
              "        buttonEl.style.display =\n",
              "          google.colab.kernel.accessAllowed ? 'block' : 'none';\n",
              "\n",
              "        async function convertToInteractive(key) {\n",
              "          const element = document.querySelector('#df-20579466-063f-4da6-aa15-d010f1d8cec4');\n",
              "          const dataTable =\n",
              "            await google.colab.kernel.invokeFunction('convertToInteractive',\n",
              "                                                     [key], {});\n",
              "          if (!dataTable) return;\n",
              "\n",
              "          const docLinkHtml = 'Like what you see? Visit the ' +\n",
              "            '<a target=\"_blank\" href=https://colab.research.google.com/notebooks/data_table.ipynb>data table notebook</a>'\n",
              "            + ' to learn more about interactive tables.';\n",
              "          element.innerHTML = '';\n",
              "          dataTable['output_type'] = 'display_data';\n",
              "          await google.colab.output.renderOutput(dataTable, element);\n",
              "          const docLink = document.createElement('div');\n",
              "          docLink.innerHTML = docLinkHtml;\n",
              "          element.appendChild(docLink);\n",
              "        }\n",
              "      </script>\n",
              "    </div>\n",
              "  </div>\n",
              "  "
            ]
          },
          "metadata": {},
          "execution_count": 20
        }
      ],
      "source": [
        "\n",
        "\n",
        "data['Sex_Encoded'] = data['Sex'].map({'male': 1, 'female': 2})\n",
        "\n",
        "data[[\"Sex\",\"Sex_Encoded\"]].head(20)"
      ]
    },
    {
      "cell_type": "markdown",
      "id": "810b4cd1",
      "metadata": {
        "papermill": {
          "duration": 0.010874,
          "end_time": "2023-07-01T18:13:08.408821",
          "exception": false,
          "start_time": "2023-07-01T18:13:08.397947",
          "status": "completed"
        },
        "tags": [],
        "id": "810b4cd1"
      },
      "source": [
        "### Create a heatmap using the correlation matrix\n"
      ]
    },
    {
      "cell_type": "code",
      "execution_count": 21,
      "id": "1c0dc905",
      "metadata": {
        "execution": {
          "iopub.execute_input": "2023-07-01T18:13:08.432543Z",
          "iopub.status.busy": "2023-07-01T18:13:08.432181Z",
          "iopub.status.idle": "2023-07-01T18:13:08.751655Z",
          "shell.execute_reply": "2023-07-01T18:13:08.750324Z"
        },
        "papermill": {
          "duration": 0.334432,
          "end_time": "2023-07-01T18:13:08.754212",
          "exception": false,
          "start_time": "2023-07-01T18:13:08.419780",
          "status": "completed"
        },
        "tags": [],
        "colab": {
          "base_uri": "https://localhost:8080/",
          "height": 820
        },
        "id": "1c0dc905",
        "outputId": "ee814044-eedd-4c6d-94e5-9365f0617abe"
      },
      "outputs": [
        {
          "output_type": "stream",
          "name": "stdout",
          "text": [
            "Pclass        -0.108615\n",
            "Sex_Encoded    1.000000\n",
            "Age           -0.006750\n",
            "Fare           0.191382\n",
            "Survived       1.000000\n",
            "Name: Survived, dtype: float64\n"
          ]
        },
        {
          "output_type": "display_data",
          "data": {
            "text/plain": [
              "<Figure size 1000x800 with 2 Axes>"
            ],
            "image/png": "[encoded data removed]"
          },
          "metadata": {}
        }
      ],
      "source": [
        "\n",
        "\n",
        "\n",
        "# Assuming 'df' is the DataFrame containing the Titanic dataset\n",
        "\n",
        "# Select the desired columns for correlation analysis\n",
        "selected_columns = ['Pclass', 'Sex_Encoded', 'Age', 'Fare']\n",
        "subset_df = data[selected_columns + ['Survived']]\n",
        "\n",
        "# Compute the correlation matrix\n",
        "corr_matrix = subset_df.corr()\n",
        "print(corr_matrix.Survived)\n",
        "\n",
        "# Create a heatmap using the correlation matrix\n",
        "plt.figure(figsize=(10, 8))\n",
        "sns.heatmap(corr_matrix, annot=True, cmap='coolwarm')\n",
        "\n",
        "# Set the title of the plot\n",
        "plt.title('Correlation Heatmap')\n",
        "\n",
        "# Display the plot\n",
        "plt.show()\n"
      ]
    },
    {
      "cell_type": "code",
      "execution_count": 21,
      "id": "19d9c1bf",
      "metadata": {
        "papermill": {
          "duration": 0.011442,
          "end_time": "2023-07-01T18:13:08.777612",
          "exception": false,
          "start_time": "2023-07-01T18:13:08.766170",
          "status": "completed"
        },
        "tags": [],
        "id": "19d9c1bf"
      },
      "outputs": [],
      "source": []
    },
    {
      "cell_type": "code",
      "execution_count": 22,
      "id": "a9206eb1",
      "metadata": {
        "execution": {
          "iopub.execute_input": "2023-07-01T18:13:08.802240Z",
          "iopub.status.busy": "2023-07-01T18:13:08.801879Z",
          "iopub.status.idle": "2023-07-01T18:13:08.937272Z",
          "shell.execute_reply": "2023-07-01T18:13:08.936240Z"
        },
        "papermill": {
          "duration": 0.15082,
          "end_time": "2023-07-01T18:13:08.940016",
          "exception": false,
          "start_time": "2023-07-01T18:13:08.789196",
          "status": "completed"
        },
        "tags": [],
        "colab": {
          "base_uri": "https://localhost:8080/",
          "height": 472
        },
        "id": "a9206eb1",
        "outputId": "c81ac782-c12c-4d73-e5a0-3c68b9bc99e2"
      },
      "outputs": [
        {
          "output_type": "display_data",
          "data": {
            "text/plain": [
              "<Figure size 640x480 with 1 Axes>"
            ],
            "image/png": "[encoded data removed]"
          },
          "metadata": {}
        }
      ],
      "source": [
        "\n",
        "# Scatter plot\n",
        "plt.scatter(data['Sex_Encoded'], data['Survived'])\n",
        "\n",
        "# Trend line\n",
        "z = np.polyfit(data['Sex_Encoded'], data['Survived'], 1)\n",
        "p = np.poly1d(z)\n",
        "plt.plot(data['Sex_Encoded'], p(data['Sex_Encoded']), \"r--\")\n",
        "\n",
        "# Plot labels\n",
        "plt.xlabel('Sex_Encoded')\n",
        "plt.ylabel('Survived')\n",
        "\n",
        "# Plot title\n",
        "plt.title('Scatter Plot: Survived vs Sex_Encoded')\n",
        "plt.yticks([0, 1], ['No', 'Yes'])\n",
        "plt.xticks([1,2], ['Male', 'Female'])\n",
        "# Show the plot\n",
        "plt.show()\n"
      ]
    },
    {
      "cell_type": "markdown",
      "id": "a65b4aec",
      "metadata": {
        "papermill": {
          "duration": 0.015826,
          "end_time": "2023-07-01T18:13:08.971934",
          "exception": false,
          "start_time": "2023-07-01T18:13:08.956108",
          "status": "completed"
        },
        "tags": [],
        "id": "a65b4aec"
      },
      "source": [
        "# Based on the correlation coefficient of 1 between 'Survived' and 'Sex_Encoded', we can draw the following statistical conclusion:\n",
        "\n",
        "The variable 'Sex_Encoded' is strongly positively correlated with the survival outcome ('Survived'). A correlation coefficient of 1 indicates a perfect positive linear relationship between the two variables. This implies that as the 'Sex_Encoded' value increases (from 1 to 2), the likelihood of survival (represented by 'Survived') also increases.\n",
        "\n",
        "\n",
        "This finding suggests that gender played a significant role in determining the survival rate of passengers on the Titanic. The correlation indicates that being classified as male (encoded as 1) was associated with a lower chance of survival, while being classified as female (encoded as 2) was associated with a higher chance of survival.\n",
        "\n",
        "It is important to note that correlation does not imply causation, and additional analysis would be required to identify the underlying factors contributing to the observed correlation. Nonetheless, this correlation analysis highlights the potential importance of gender in understanding the survival outcomes of the Titanic passengers."
      ]
    },
    {
      "cell_type": "code",
      "execution_count": 23,
      "id": "fdf4695b",
      "metadata": {
        "execution": {
          "iopub.execute_input": "2023-07-01T18:13:09.004801Z",
          "iopub.status.busy": "2023-07-01T18:13:09.003059Z",
          "iopub.status.idle": "2023-07-01T18:13:09.180445Z",
          "shell.execute_reply": "2023-07-01T18:13:09.179496Z"
        },
        "papermill": {
          "duration": 0.194778,
          "end_time": "2023-07-01T18:13:09.182737",
          "exception": false,
          "start_time": "2023-07-01T18:13:08.987959",
          "status": "completed"
        },
        "tags": [],
        "colab": {
          "base_uri": "https://localhost:8080/",
          "height": 552
        },
        "id": "fdf4695b",
        "outputId": "1c4dce6c-a907-4ad5-e19b-49b3052fd11e"
      },
      "outputs": [
        {
          "output_type": "stream",
          "name": "stdout",
          "text": [
            "Number of Males: 266\n",
            "Number of Females: 152\n",
            "Number of Male Survivors: 0\n",
            "Number of Female Survivors: 152\n"
          ]
        },
        {
          "output_type": "display_data",
          "data": {
            "text/plain": [
              "<Figure size 640x480 with 1 Axes>"
            ],
            "image/png": "[encoded data removed]"
          },
          "metadata": {}
        }
      ],
      "source": [
        "num_male = len(data[data['Sex'] == 'male'])\n",
        "num_female = len(data[data['Sex'] == 'female'])\n",
        "\n",
        "male_survivors = len(data[(data['Sex'] == 'male') & (data['Survived'] == 1)])\n",
        "female_survivors = len(data[(data['Sex'] == 'female') & (data['Survived'] == 1)])\n",
        "\n",
        "print(\"Number of Males:\", num_male)\n",
        "print(\"Number of Females:\", num_female)\n",
        "print(\"Number of Male Survivors:\", male_survivors)\n",
        "print(\"Number of Female Survivors:\", female_survivors)\n",
        "\n",
        "\n",
        "labels = ['Males', 'Females', 'Male Survivors', 'Female Survivors']\n",
        "counts = [num_male, num_female, male_survivors, female_survivors]\n",
        "\n",
        "# Plotting\n",
        "plt.bar(labels, counts)\n",
        "plt.xlabel('Category')\n",
        "plt.ylabel('Count')\n",
        "plt.title('Counts of Males, Females, Male Survivors, and Female Survivors')\n",
        "\n",
        "# Display the plot\n",
        "plt.show()"
      ]
    },
    {
      "cell_type": "markdown",
      "id": "a10cb2df",
      "metadata": {
        "papermill": {
          "duration": 0.013246,
          "end_time": "2023-07-01T18:13:09.208585",
          "exception": false,
          "start_time": "2023-07-01T18:13:09.195339",
          "status": "completed"
        },
        "tags": [],
        "id": "a10cb2df"
      },
      "source": [
        "# Based on the provided statistics, we can draw the following conclusions:\n",
        "\n",
        "1. Gender Distribution: In the Titanic dataset, there were 266 males and 152 females. The number of males was significantly higher than the number of females.\n",
        "\n",
        "2. Survival Rate: None of the male passengers in the dataset survived the Titanic shipwreck, whereas all 152 female passengers in the dataset survived. This indicates a stark difference in the survival rates based on gender.\n",
        "\n",
        "3. Gender Disparity in Survival: The data highlights a significant gender disparity in survival, with all female passengers in the dataset surviving the disaster. This suggests that being female was a significant factor in increasing the chances of survival during the Titanic shipwreck.\n",
        "\n",
        "4. Importance of Gender in Survival: The survival outcome emphasizes the importance of gender in determining the likelihood of survival during maritime disasters. It suggests that females were given priority during the rescue efforts.\n",
        "\n",
        "It is important to note that these conclusions are based solely on the provided dataset, and further analysis would be required to make broader generalizations about the entire population of the Titanic passengers."
      ]
    },
    {
      "cell_type": "code",
      "execution_count": 23,
      "id": "94f6c75c",
      "metadata": {
        "papermill": {
          "duration": 0.012681,
          "end_time": "2023-07-01T18:13:09.233593",
          "exception": false,
          "start_time": "2023-07-01T18:13:09.220912",
          "status": "completed"
        },
        "tags": [],
        "id": "94f6c75c"
      },
      "outputs": [],
      "source": []
    },
    {
      "cell_type": "code",
      "execution_count": 24,
      "id": "ef8e8868",
      "metadata": {
        "execution": {
          "iopub.execute_input": "2023-07-01T18:13:09.259776Z",
          "iopub.status.busy": "2023-07-01T18:13:09.259446Z",
          "iopub.status.idle": "2023-07-01T18:13:09.500632Z",
          "shell.execute_reply": "2023-07-01T18:13:09.499061Z"
        },
        "papermill": {
          "duration": 0.256596,
          "end_time": "2023-07-01T18:13:09.502518",
          "exception": false,
          "start_time": "2023-07-01T18:13:09.245922",
          "status": "completed"
        },
        "tags": [],
        "colab": {
          "base_uri": "https://localhost:8080/",
          "height": 472
        },
        "id": "ef8e8868",
        "outputId": "7ed07b44-0223-436e-d3eb-cc7587ffffdf"
      },
      "outputs": [
        {
          "output_type": "display_data",
          "data": {
            "text/plain": [
              "<Figure size 640x480 with 1 Axes>"
            ],
            "image/png": "[encoded data removed]"
          },
          "metadata": {}
        }
      ],
      "source": [
        "import numpy as np\n",
        "import matplotlib.pyplot as plt\n",
        "\n",
        "Q1 = data['Fare'].quantile(0.25)\n",
        "Q3 = data['Fare'].quantile(0.75)\n",
        "IQR = Q3 - Q1\n",
        "\n",
        "# Define the upper and lower bounds for outliers\n",
        "lower_bound = Q1 - 1.5 * IQR\n",
        "upper_bound = Q3 + 1.5 * IQR\n",
        "\n",
        "# Remove outliers from the Fare column\n",
        "cleaned_data = data[(data['Fare'] >= lower_bound) & (data['Fare'] <= upper_bound)]\n",
        "\n",
        "# Print the cleaned dataset\n",
        "#print(cleaned_data)\n",
        "\n",
        "\n",
        "# Calculate the trendline\n",
        "fit = np.polyfit(cleaned_data['Fare'], cleaned_data['Survived'], 1)\n",
        "trendline = np.polyval(fit, cleaned_data['Fare'])\n",
        "\n",
        "# Plot the scatter plot with trendline\n",
        "plt.scatter(cleaned_data['Fare'], cleaned_data['Survived'])\n",
        "plt.plot(cleaned_data['Fare'], trendline, color='red', linestyle='--', label='Trendline')\n",
        "plt.xlabel('Fare')\n",
        "plt.ylabel('Survived')\n",
        "plt.title('Correlation between Survived and Fare')\n",
        "plt.legend()\n",
        "plt.show()\n"
      ]
    },
    {
      "cell_type": "markdown",
      "id": "b53ad2d4",
      "metadata": {
        "papermill": {
          "duration": 0.013296,
          "end_time": "2023-07-01T18:13:09.528173",
          "exception": false,
          "start_time": "2023-07-01T18:13:09.514877",
          "status": "completed"
        },
        "tags": [],
        "id": "b53ad2d4"
      },
      "source": [
        "# Based on the given correlation coefficient of 0.19 between \"Survived\" and \"Fare\", we can draw the following statistical conclusions:\n",
        "\n",
        "1. Weak Positive Correlation: The correlation coefficient of 0.19 indicates a weak positive correlation between \"Survived\" and \"Fare\". This suggests that there is a slight tendency for higher fare values to be associated with a slightly higher likelihood of survival.\n",
        "\n",
        "2. Consider Other Factors: While there is a positive correlation, it is important to note that correlation does not imply causation. Other factors such as passenger class, age, or gender may have a stronger influence on survival outcomes. It is recommended to consider these variables in conjunction with fare when analyzing the factors affecting survival.\n",
        "\n",
        "3. Further Analysis: To fully understand the relationship between \"Survived\" and \"Fare\", it is beneficial to conduct additional statistical tests or explore other visualization techniques. This can help uncover any non-linear or non-monotonic relationships and provide more insights into the factors contributing to survival.\n",
        "\n",
        "4. Interpret with Caution: Although a positive correlation exists, the magnitude of 0.19 suggests a relatively weak association. It is important to interpret the correlation in the context of the dataset and consider other variables before drawing definitive conclusions.\n",
        "\n",
        "It is essential to conduct further analysis and consider multiple factors to gain a comprehensive understanding of the factors influencing survival on the Titanic."
      ]
    },
    {
      "cell_type": "code",
      "execution_count": 24,
      "id": "3996bbc9",
      "metadata": {
        "papermill": {
          "duration": 0.012849,
          "end_time": "2023-07-01T18:13:09.553981",
          "exception": false,
          "start_time": "2023-07-01T18:13:09.541132",
          "status": "completed"
        },
        "tags": [],
        "id": "3996bbc9"
      },
      "outputs": [],
      "source": []
    },
    {
      "cell_type": "code",
      "execution_count": 25,
      "id": "a01d9a6f",
      "metadata": {
        "execution": {
          "iopub.execute_input": "2023-07-01T18:13:09.581869Z",
          "iopub.status.busy": "2023-07-01T18:13:09.581506Z",
          "iopub.status.idle": "2023-07-01T18:13:09.849769Z",
          "shell.execute_reply": "2023-07-01T18:13:09.848323Z"
        },
        "papermill": {
          "duration": 0.284548,
          "end_time": "2023-07-01T18:13:09.851662",
          "exception": false,
          "start_time": "2023-07-01T18:13:09.567114",
          "status": "completed"
        },
        "tags": [],
        "colab": {
          "base_uri": "https://localhost:8080/",
          "height": 472
        },
        "id": "a01d9a6f",
        "outputId": "eebd84ab-a9f1-4fa6-c42d-611af1f996d6"
      },
      "outputs": [
        {
          "output_type": "display_data",
          "data": {
            "text/plain": [
              "<Figure size 640x480 with 1 Axes>"
            ],
            "image/png": "[encoded data removed]"
          },
          "metadata": {}
        }
      ],
      "source": [
        "\n",
        "import seaborn as sns\n",
        "\n",
        "# Assuming 'data' is your DataFrame containing the 'Survived' and 'Age' columns\n",
        "sns.regplot(x='Age', y='Survived', data=data, scatter=True)\n",
        "plt.xlabel('Age')\n",
        "plt.ylabel('Survived')\n",
        "plt.title('Correlation between Survived and Age with Trendline')\n",
        "plt.yticks([0, 1], ['No', 'Yes'])\n",
        "plt.show()"
      ]
    },
    {
      "cell_type": "markdown",
      "id": "f0454963",
      "metadata": {
        "papermill": {
          "duration": 0.012346,
          "end_time": "2023-07-01T18:13:09.877753",
          "exception": false,
          "start_time": "2023-07-01T18:13:09.865407",
          "status": "completed"
        },
        "tags": [],
        "id": "f0454963"
      },
      "source": [
        "# Based on the correlation value of -0.006750 between \"Survived\" and \"Age\" with the trendline, we can draw the following statistical conclusions:\n",
        "\n",
        "The correlation coefficient of -0.006750 indicates a very weak and almost negligible relationship between \"Survived\" and \"Age\". This suggests that there is no significant linear relationship between the age of the passengers and the survival outcome.\n",
        "\n",
        "It is important to note that correlation only measures the linear relationship between variables and does not imply causation. In this case, the correlation value of -0.006750 suggests that age alone is not a strong determinant of survival outcome on the Titanic.\n",
        "\n",
        "It should be noted that the correlation coefficient measures only the linear relationship between two variables and may not capture any non-linear relationships or interactions that might exist. Further analysis is needed to explore other potential factors that may influence survival outcome, such as passenger class, gender, and other relevant features.\n",
        "\n",
        "Overall, based on the correlation value of -0.006750, it can be concluded that age does not play a significant role in determining the survival outcome on the Titanic."
      ]
    },
    {
      "cell_type": "code",
      "execution_count": 25,
      "id": "cd8ebe1c",
      "metadata": {
        "papermill": {
          "duration": 0.01245,
          "end_time": "2023-07-01T18:13:09.902647",
          "exception": false,
          "start_time": "2023-07-01T18:13:09.890197",
          "status": "completed"
        },
        "tags": [],
        "id": "cd8ebe1c"
      },
      "outputs": [],
      "source": []
    },
    {
      "cell_type": "code",
      "execution_count": 25,
      "id": "1ec02019",
      "metadata": {
        "papermill": {
          "duration": 0.012766,
          "end_time": "2023-07-01T18:13:09.928362",
          "exception": false,
          "start_time": "2023-07-01T18:13:09.915596",
          "status": "completed"
        },
        "tags": [],
        "id": "1ec02019"
      },
      "outputs": [],
      "source": []
    },
    {
      "cell_type": "code",
      "execution_count": 25,
      "id": "f2d1f5be",
      "metadata": {
        "papermill": {
          "duration": 0.012636,
          "end_time": "2023-07-01T18:13:09.953967",
          "exception": false,
          "start_time": "2023-07-01T18:13:09.941331",
          "status": "completed"
        },
        "tags": [],
        "id": "f2d1f5be"
      },
      "outputs": [],
      "source": []
    },
    {
      "cell_type": "markdown",
      "id": "34d09cd7",
      "metadata": {
        "papermill": {
          "duration": 0.012328,
          "end_time": "2023-07-01T18:13:09.979163",
          "exception": false,
          "start_time": "2023-07-01T18:13:09.966835",
          "status": "completed"
        },
        "tags": [],
        "id": "34d09cd7"
      },
      "source": [
        "# Summary of the Conclusions:\n",
        "\n",
        "Based on the data analysis and calculation of correlation coefficients between different variables and the survival outcome on the Titanic, the following conclusions can be drawn:\n",
        "\n",
        "1. Gender (the variable \"Sex_Encoded\") played a significant role in determining the survival rates. There was a strong positive correlation between gender and survival rates. This suggests that being female (encoded as 2) was associated with a higher likelihood of survival, while being male (encoded as 1) was associated with a lower likelihood of survival.\n",
        "\n",
        "2. Gender had a significant impact on the distribution of survival on the ship. All female passengers in the dataset survived, while none of the male passengers survived. This indicates a stark difference in survival rates based on gender.\n",
        "\n",
        "3. The weak positive correlation between \"Survived\" and \"Fare\" indicates a slight tendency for higher fare values to be associated with a slightly higher likelihood of survival. However, the correlation is relatively weak, and there may be other factors that have a stronger influence on survival outcomes.\n",
        "\n",
        "4. There is no significant correlation between \"Survived\" and \"Age,\" suggesting that age alone does not play a significant role in determining survival outcomes on the Titanic. However, it is important to note that there may be other factors that influence survival.\n",
        "\n",
        "5. Further analysis is needed to explore other factors that may impact survival outcomes, such as passenger class, age, and others. Additional statistical tests and techniques can help uncover non-linear relationships or interactions that may exist.\n",
        "\n",
        "In summary, the conclusions can be summarized as follows: Gender and fare were influential factors in survival outcomes on the Titanic. It is important to note that these conclusions are based on the available dataset, and further analysis and study may be required to generalize the findings to the overall population of Titanic passengers."
      ]
    },
    {
      "cell_type": "code",
      "execution_count": 25,
      "id": "eda03c3b",
      "metadata": {
        "papermill": {
          "duration": 0.012752,
          "end_time": "2023-07-01T18:13:10.004676",
          "exception": false,
          "start_time": "2023-07-01T18:13:09.991924",
          "status": "completed"
        },
        "tags": [],
        "id": "eda03c3b"
      },
      "outputs": [],
      "source": []
    },
    {
      "cell_type": "code",
      "execution_count": 25,
      "id": "0b586baa",
      "metadata": {
        "papermill": {
          "duration": 0.012685,
          "end_time": "2023-07-01T18:13:10.030289",
          "exception": false,
          "start_time": "2023-07-01T18:13:10.017604",
          "status": "completed"
        },
        "tags": [],
        "id": "0b586baa"
      },
      "outputs": [],
      "source": []
    },
    {
      "cell_type": "markdown",
      "id": "05272d70",
      "metadata": {
        "papermill": {
          "duration": 0.012482,
          "end_time": "2023-07-01T18:13:10.055455",
          "exception": false,
          "start_time": "2023-07-01T18:13:10.042973",
          "status": "completed"
        },
        "tags": [],
        "id": "05272d70"
      },
      "source": [
        "# Resource :\n",
        "\n",
        "chat GPT https://chat.openai.com/"
      ]
    }
  ],
  "metadata": {
    "kernelspec": {
      "display_name": "Python 3",
      "language": "python",
      "name": "python3"
    },
    "language_info": {
      "codemirror_mode": {
        "name": "ipython",
        "version": 3
      },
      "file_extension": ".py",
      "mimetype": "text/x-python",
      "name": "python",
      "nbconvert_exporter": "python",
      "pygments_lexer": "ipython3",
      "version": "3.10.10"
    },
    "papermill": {
      "default_parameters": {},
      "duration": 14.999573,
      "end_time": "2023-07-01T18:13:10.989572",
      "environment_variables": {},
      "exception": null,
      "input_path": "__notebook__.ipynb",
      "output_path": "__notebook__.ipynb",
      "parameters": {},
      "start_time": "2023-07-01T18:12:55.989999",
      "version": "2.4.0"
    },
    "colab": {
      "provenance": [],
      "include_colab_link": true
    }
  },
  "nbformat": 4,
  "nbformat_minor": 5
}