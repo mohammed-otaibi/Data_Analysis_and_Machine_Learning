{
  "nbformat": 4,
  "nbformat_minor": 0,
  "metadata": {
    "colab": {
      "provenance": []
    },
    "kernelspec": {
      "name": "python3",
      "display_name": "Python 3"
    },
    "language_info": {
      "name": "python"
    }
  },
  "cells": [
    {
      "cell_type": "code",
      "execution_count": null,
      "metadata": {
        "id": "A4Id_3eM9Zw4"
      },
      "outputs": [],
      "source": [
        "!pip install pandas==1.3.4\n",
        "!pip install numpy==1.21.2\n",
        "!pip install matplotlib==3.4.3\n",
        "!pip install seaborn\n",
        "!pip install scipy==1.7.1\n",
        "!pip install scikit-learn==0.24.2\n"
      ]
    },
    {
      "cell_type": "code",
      "source": [],
      "metadata": {
        "id": "xnzFRQhc_9fl"
      },
      "execution_count": null,
      "outputs": []
    },
    {
      "cell_type": "code",
      "source": [],
      "metadata": {
        "id": "CJ2Z-2Ib-lpP"
      },
      "execution_count": 36,
      "outputs": []
    },
    {
      "cell_type": "markdown",
      "source": [
        "# Importing the Librareis"
      ],
      "metadata": {
        "id": "TAtJm3w-_8vX"
      }
    },
    {
      "cell_type": "code",
      "source": [
        "import pandas as pd\n",
        "import numpy as np\n",
        "import matplotlib.pyplot as plt\n",
        "import seaborn as sns\n",
        "from sklearn.cluster import KMeans\n",
        "from numpy.lib.function_base import delete\n"
      ],
      "metadata": {
        "id": "PIuNc1XvAF6L"
      },
      "execution_count": 176,
      "outputs": []
    },
    {
      "cell_type": "code",
      "source": [],
      "metadata": {
        "id": "uYr0EiWP_dW8"
      },
      "execution_count": 176,
      "outputs": []
    },
    {
      "cell_type": "markdown",
      "source": [
        "# Reading the Iris dataset"
      ],
      "metadata": {
        "id": "Sl2AQvSHAjQf"
      }
    },
    {
      "cell_type": "code",
      "source": [
        "# Read the Iris dataset file\n",
        "file_path = '/content/drive/MyDrive/Iris.csv'\n",
        "iris = pd.read_csv(file_path)\n"
      ],
      "metadata": {
        "id": "JOGWA2wEAo4N"
      },
      "execution_count": 177,
      "outputs": []
    },
    {
      "cell_type": "code",
      "source": [
        "# Printing the first 5 records in the dataset\n",
        "iris.head()"
      ],
      "metadata": {
        "colab": {
          "base_uri": "https://localhost:8080/",
          "height": 204
        },
        "id": "PqxoyPMVA-tH",
        "outputId": "a86bb9fb-dce1-429a-f145-402842dca7a9"
      },
      "execution_count": 178,
      "outputs": [
        {
          "output_type": "execute_result",
          "data": {
            "text/plain": [
              "   Id  SepalLengthCm  SepalWidthCm  PetalLengthCm  PetalWidthCm      Species\n",
              "0   1            5.1           3.5            1.4           0.2  Iris-setosa\n",
              "1   2            4.9           3.0            1.4           0.2  Iris-setosa\n",
              "2   3            4.7           3.2            1.3           0.2  Iris-setosa\n",
              "3   4            4.6           3.1            1.5           0.2  Iris-setosa\n",
              "4   5            5.0           3.6            1.4           0.2  Iris-setosa"
            ],
            "text/html": [
              "\n",
              "  <div id=\"df-ff74d2a8-674f-492b-9d89-6189df643f01\">\n",
              "    <div class=\"colab-df-container\">\n",
              "      <div>\n",
              "<style scoped>\n",
              "    .dataframe tbody tr th:only-of-type {\n",
              "        vertical-align: middle;\n",
              "    }\n",
              "\n",
              "    .dataframe tbody tr th {\n",
              "        vertical-align: top;\n",
              "    }\n",
              "\n",
              "    .dataframe thead th {\n",
              "        text-align: right;\n",
              "    }\n",
              "</style>\n",
              "<table border=\"1\" class=\"dataframe\">\n",
              "  <thead>\n",
              "    <tr style=\"text-align: right;\">\n",
              "      <th></th>\n",
              "      <th>Id</th>\n",
              "      <th>SepalLengthCm</th>\n",
              "      <th>SepalWidthCm</th>\n",
              "      <th>PetalLengthCm</th>\n",
              "      <th>PetalWidthCm</th>\n",
              "      <th>Species</th>\n",
              "    </tr>\n",
              "  </thead>\n",
              "  <tbody>\n",
              "    <tr>\n",
              "      <th>0</th>\n",
              "      <td>1</td>\n",
              "      <td>5.1</td>\n",
              "      <td>3.5</td>\n",
              "      <td>1.4</td>\n",
              "      <td>0.2</td>\n",
              "      <td>Iris-setosa</td>\n",
              "    </tr>\n",
              "    <tr>\n",
              "      <th>1</th>\n",
              "      <td>2</td>\n",
              "      <td>4.9</td>\n",
              "      <td>3.0</td>\n",
              "      <td>1.4</td>\n",
              "      <td>0.2</td>\n",
              "      <td>Iris-setosa</td>\n",
              "    </tr>\n",
              "    <tr>\n",
              "      <th>2</th>\n",
              "      <td>3</td>\n",
              "      <td>4.7</td>\n",
              "      <td>3.2</td>\n",
              "      <td>1.3</td>\n",
              "      <td>0.2</td>\n",
              "      <td>Iris-setosa</td>\n",
              "    </tr>\n",
              "    <tr>\n",
              "      <th>3</th>\n",
              "      <td>4</td>\n",
              "      <td>4.6</td>\n",
              "      <td>3.1</td>\n",
              "      <td>1.5</td>\n",
              "      <td>0.2</td>\n",
              "      <td>Iris-setosa</td>\n",
              "    </tr>\n",
              "    <tr>\n",
              "      <th>4</th>\n",
              "      <td>5</td>\n",
              "      <td>5.0</td>\n",
              "      <td>3.6</td>\n",
              "      <td>1.4</td>\n",
              "      <td>0.2</td>\n",
              "      <td>Iris-setosa</td>\n",
              "    </tr>\n",
              "  </tbody>\n",
              "</table>\n",
              "</div>\n",
              "      <button class=\"colab-df-convert\" onclick=\"convertToInteractive('df-ff74d2a8-674f-492b-9d89-6189df643f01')\"\n",
              "              title=\"Convert this dataframe to an interactive table.\"\n",
              "              style=\"display:none;\">\n",
              "        \n",
              "  <svg xmlns=\"http://www.w3.org/2000/svg\" height=\"24px\"viewBox=\"0 0 24 24\"\n",
              "       width=\"24px\">\n",
              "    <path d=\"M0 0h24v24H0V0z\" fill=\"none\"/>\n",
              "    <path d=\"M18.56 5.44l.94 2.06.94-2.06 2.06-.94-2.06-.94-.94-2.06-.94 2.06-2.06.94zm-11 1L8.5 8.5l.94-2.06 2.06-.94-2.06-.94L8.5 2.5l-.94 2.06-2.06.94zm10 10l.94 2.06.94-2.06 2.06-.94-2.06-.94-.94-2.06-.94 2.06-2.06.94z\"/><path d=\"M17.41 7.96l-1.37-1.37c-.4-.4-.92-.59-1.43-.59-.52 0-1.04.2-1.43.59L10.3 9.45l-7.72 7.72c-.78.78-.78 2.05 0 2.83L4 21.41c.39.39.9.59 1.41.59.51 0 1.02-.2 1.41-.59l7.78-7.78 2.81-2.81c.8-.78.8-2.07 0-2.86zM5.41 20L4 18.59l7.72-7.72 1.47 1.35L5.41 20z\"/>\n",
              "  </svg>\n",
              "      </button>\n",
              "      \n",
              "  <style>\n",
              "    .colab-df-container {\n",
              "      display:flex;\n",
              "      flex-wrap:wrap;\n",
              "      gap: 12px;\n",
              "    }\n",
              "\n",
              "    .colab-df-convert {\n",
              "      background-color: #E8F0FE;\n",
              "      border: none;\n",
              "      border-radius: 50%;\n",
              "      cursor: pointer;\n",
              "      display: none;\n",
              "      fill: #1967D2;\n",
              "      height: 32px;\n",
              "      padding: 0 0 0 0;\n",
              "      width: 32px;\n",
              "    }\n",
              "\n",
              "    .colab-df-convert:hover {\n",
              "      background-color: #E2EBFA;\n",
              "      box-shadow: 0px 1px 2px rgba(60, 64, 67, 0.3), 0px 1px 3px 1px rgba(60, 64, 67, 0.15);\n",
              "      fill: #174EA6;\n",
              "    }\n",
              "\n",
              "    [theme=dark] .colab-df-convert {\n",
              "      background-color: #3B4455;\n",
              "      fill: #D2E3FC;\n",
              "    }\n",
              "\n",
              "    [theme=dark] .colab-df-convert:hover {\n",
              "      background-color: #434B5C;\n",
              "      box-shadow: 0px 1px 3px 1px rgba(0, 0, 0, 0.15);\n",
              "      filter: drop-shadow(0px 1px 2px rgba(0, 0, 0, 0.3));\n",
              "      fill: #FFFFFF;\n",
              "    }\n",
              "  </style>\n",
              "\n",
              "      <script>\n",
              "        const buttonEl =\n",
              "          document.querySelector('#df-ff74d2a8-674f-492b-9d89-6189df643f01 button.colab-df-convert');\n",
              "        buttonEl.style.display =\n",
              "          google.colab.kernel.accessAllowed ? 'block' : 'none';\n",
              "\n",
              "        async function convertToInteractive(key) {\n",
              "          const element = document.querySelector('#df-ff74d2a8-674f-492b-9d89-6189df643f01');\n",
              "          const dataTable =\n",
              "            await google.colab.kernel.invokeFunction('convertToInteractive',\n",
              "                                                     [key], {});\n",
              "          if (!dataTable) return;\n",
              "\n",
              "          const docLinkHtml = 'Like what you see? Visit the ' +\n",
              "            '<a target=\"_blank\" href=https://colab.research.google.com/notebooks/data_table.ipynb>data table notebook</a>'\n",
              "            + ' to learn more about interactive tables.';\n",
              "          element.innerHTML = '';\n",
              "          dataTable['output_type'] = 'display_data';\n",
              "          await google.colab.output.renderOutput(dataTable, element);\n",
              "          const docLink = document.createElement('div');\n",
              "          docLink.innerHTML = docLinkHtml;\n",
              "          element.appendChild(docLink);\n",
              "        }\n",
              "      </script>\n",
              "    </div>\n",
              "  </div>\n",
              "  "
            ]
          },
          "metadata": {},
          "execution_count": 178
        }
      ]
    },
    {
      "cell_type": "markdown",
      "source": [
        "# Drop the Id column:"
      ],
      "metadata": {
        "id": "bBsEU_3VXbXQ"
      }
    },
    {
      "cell_type": "code",
      "source": [
        "iris = iris.drop('Id', axis=1)"
      ],
      "metadata": {
        "id": "XR3XuEtlXK1P"
      },
      "execution_count": 179,
      "outputs": []
    },
    {
      "cell_type": "code",
      "source": [
        "iris.info()"
      ],
      "metadata": {
        "colab": {
          "base_uri": "https://localhost:8080/"
        },
        "id": "3Plw3UH6Br2g",
        "outputId": "d005e482-88a9-4dc8-f4f2-edd42bd7c816"
      },
      "execution_count": 180,
      "outputs": [
        {
          "output_type": "stream",
          "name": "stdout",
          "text": [
            "<class 'pandas.core.frame.DataFrame'>\n",
            "RangeIndex: 150 entries, 0 to 149\n",
            "Data columns (total 5 columns):\n",
            " #   Column         Non-Null Count  Dtype  \n",
            "---  ------         --------------  -----  \n",
            " 0   SepalLengthCm  150 non-null    float64\n",
            " 1   SepalWidthCm   150 non-null    float64\n",
            " 2   PetalLengthCm  150 non-null    float64\n",
            " 3   PetalWidthCm   150 non-null    float64\n",
            " 4   Species        150 non-null    object \n",
            "dtypes: float64(4), object(1)\n",
            "memory usage: 6.0+ KB\n"
          ]
        }
      ]
    },
    {
      "cell_type": "markdown",
      "source": [
        "# The Iris dataset does not contain any missing data."
      ],
      "metadata": {
        "id": "Rwyr5FgqCFp5"
      }
    },
    {
      "cell_type": "code",
      "source": [
        "iris.isnull().sum()"
      ],
      "metadata": {
        "colab": {
          "base_uri": "https://localhost:8080/"
        },
        "id": "ar00ghnWCrIr",
        "outputId": "be77decc-3396-40d7-a01f-6a95b651a53b"
      },
      "execution_count": 181,
      "outputs": [
        {
          "output_type": "execute_result",
          "data": {
            "text/plain": [
              "SepalLengthCm    0\n",
              "SepalWidthCm     0\n",
              "PetalLengthCm    0\n",
              "PetalWidthCm     0\n",
              "Species          0\n",
              "dtype: int64"
            ]
          },
          "metadata": {},
          "execution_count": 181
        }
      ]
    },
    {
      "cell_type": "code",
      "source": [
        "\n",
        "# Write the DataFrame to a CSV file\n",
        "#iris.to_csv('/content/drive/MyDrive/Iris_data.csv', index=False)\n"
      ],
      "metadata": {
        "id": "qo-ukGsxDb4Y"
      },
      "execution_count": 182,
      "outputs": []
    },
    {
      "cell_type": "markdown",
      "source": [
        "# Reset"
      ],
      "metadata": {
        "id": "ht94pQuQaMd7"
      }
    },
    {
      "cell_type": "code",
      "source": [
        "iris_data= pd.read_csv('/content/drive/MyDrive/Iris_data.csv')"
      ],
      "metadata": {
        "id": "iNJP62BxCxiZ"
      },
      "execution_count": 183,
      "outputs": []
    },
    {
      "cell_type": "markdown",
      "source": [
        "# Describing the numaric columns in the dataset:"
      ],
      "metadata": {
        "id": "0DRLK4WkD_b5"
      }
    },
    {
      "cell_type": "code",
      "source": [
        "iris_data.describe()"
      ],
      "metadata": {
        "colab": {
          "base_uri": "https://localhost:8080/",
          "height": 297
        },
        "id": "w81GWf1VEFF6",
        "outputId": "b1f71b7a-4e16-4aa7-8187-ae9128ddcf37"
      },
      "execution_count": 184,
      "outputs": [
        {
          "output_type": "execute_result",
          "data": {
            "text/plain": [
              "       SepalLengthCm  SepalWidthCm  PetalLengthCm  PetalWidthCm\n",
              "count     150.000000    150.000000     150.000000    150.000000\n",
              "mean        5.843333      3.054000       3.758667      1.198667\n",
              "std         0.828066      0.433594       1.764420      0.763161\n",
              "min         4.300000      2.000000       1.000000      0.100000\n",
              "25%         5.100000      2.800000       1.600000      0.300000\n",
              "50%         5.800000      3.000000       4.350000      1.300000\n",
              "75%         6.400000      3.300000       5.100000      1.800000\n",
              "max         7.900000      4.400000       6.900000      2.500000"
            ],
            "text/html": [
              "\n",
              "  <div id=\"df-4620cb11-24ec-4440-8917-3f0d788337e1\">\n",
              "    <div class=\"colab-df-container\">\n",
              "      <div>\n",
              "<style scoped>\n",
              "    .dataframe tbody tr th:only-of-type {\n",
              "        vertical-align: middle;\n",
              "    }\n",
              "\n",
              "    .dataframe tbody tr th {\n",
              "        vertical-align: top;\n",
              "    }\n",
              "\n",
              "    .dataframe thead th {\n",
              "        text-align: right;\n",
              "    }\n",
              "</style>\n",
              "<table border=\"1\" class=\"dataframe\">\n",
              "  <thead>\n",
              "    <tr style=\"text-align: right;\">\n",
              "      <th></th>\n",
              "      <th>SepalLengthCm</th>\n",
              "      <th>SepalWidthCm</th>\n",
              "      <th>PetalLengthCm</th>\n",
              "      <th>PetalWidthCm</th>\n",
              "    </tr>\n",
              "  </thead>\n",
              "  <tbody>\n",
              "    <tr>\n",
              "      <th>count</th>\n",
              "      <td>150.000000</td>\n",
              "      <td>150.000000</td>\n",
              "      <td>150.000000</td>\n",
              "      <td>150.000000</td>\n",
              "    </tr>\n",
              "    <tr>\n",
              "      <th>mean</th>\n",
              "      <td>5.843333</td>\n",
              "      <td>3.054000</td>\n",
              "      <td>3.758667</td>\n",
              "      <td>1.198667</td>\n",
              "    </tr>\n",
              "    <tr>\n",
              "      <th>std</th>\n",
              "      <td>0.828066</td>\n",
              "      <td>0.433594</td>\n",
              "      <td>1.764420</td>\n",
              "      <td>0.763161</td>\n",
              "    </tr>\n",
              "    <tr>\n",
              "      <th>min</th>\n",
              "      <td>4.300000</td>\n",
              "      <td>2.000000</td>\n",
              "      <td>1.000000</td>\n",
              "      <td>0.100000</td>\n",
              "    </tr>\n",
              "    <tr>\n",
              "      <th>25%</th>\n",
              "      <td>5.100000</td>\n",
              "      <td>2.800000</td>\n",
              "      <td>1.600000</td>\n",
              "      <td>0.300000</td>\n",
              "    </tr>\n",
              "    <tr>\n",
              "      <th>50%</th>\n",
              "      <td>5.800000</td>\n",
              "      <td>3.000000</td>\n",
              "      <td>4.350000</td>\n",
              "      <td>1.300000</td>\n",
              "    </tr>\n",
              "    <tr>\n",
              "      <th>75%</th>\n",
              "      <td>6.400000</td>\n",
              "      <td>3.300000</td>\n",
              "      <td>5.100000</td>\n",
              "      <td>1.800000</td>\n",
              "    </tr>\n",
              "    <tr>\n",
              "      <th>max</th>\n",
              "      <td>7.900000</td>\n",
              "      <td>4.400000</td>\n",
              "      <td>6.900000</td>\n",
              "      <td>2.500000</td>\n",
              "    </tr>\n",
              "  </tbody>\n",
              "</table>\n",
              "</div>\n",
              "      <button class=\"colab-df-convert\" onclick=\"convertToInteractive('df-4620cb11-24ec-4440-8917-3f0d788337e1')\"\n",
              "              title=\"Convert this dataframe to an interactive table.\"\n",
              "              style=\"display:none;\">\n",
              "        \n",
              "  <svg xmlns=\"http://www.w3.org/2000/svg\" height=\"24px\"viewBox=\"0 0 24 24\"\n",
              "       width=\"24px\">\n",
              "    <path d=\"M0 0h24v24H0V0z\" fill=\"none\"/>\n",
              "    <path d=\"M18.56 5.44l.94 2.06.94-2.06 2.06-.94-2.06-.94-.94-2.06-.94 2.06-2.06.94zm-11 1L8.5 8.5l.94-2.06 2.06-.94-2.06-.94L8.5 2.5l-.94 2.06-2.06.94zm10 10l.94 2.06.94-2.06 2.06-.94-2.06-.94-.94-2.06-.94 2.06-2.06.94z\"/><path d=\"M17.41 7.96l-1.37-1.37c-.4-.4-.92-.59-1.43-.59-.52 0-1.04.2-1.43.59L10.3 9.45l-7.72 7.72c-.78.78-.78 2.05 0 2.83L4 21.41c.39.39.9.59 1.41.59.51 0 1.02-.2 1.41-.59l7.78-7.78 2.81-2.81c.8-.78.8-2.07 0-2.86zM5.41 20L4 18.59l7.72-7.72 1.47 1.35L5.41 20z\"/>\n",
              "  </svg>\n",
              "      </button>\n",
              "      \n",
              "  <style>\n",
              "    .colab-df-container {\n",
              "      display:flex;\n",
              "      flex-wrap:wrap;\n",
              "      gap: 12px;\n",
              "    }\n",
              "\n",
              "    .colab-df-convert {\n",
              "      background-color: #E8F0FE;\n",
              "      border: none;\n",
              "      border-radius: 50%;\n",
              "      cursor: pointer;\n",
              "      display: none;\n",
              "      fill: #1967D2;\n",
              "      height: 32px;\n",
              "      padding: 0 0 0 0;\n",
              "      width: 32px;\n",
              "    }\n",
              "\n",
              "    .colab-df-convert:hover {\n",
              "      background-color: #E2EBFA;\n",
              "      box-shadow: 0px 1px 2px rgba(60, 64, 67, 0.3), 0px 1px 3px 1px rgba(60, 64, 67, 0.15);\n",
              "      fill: #174EA6;\n",
              "    }\n",
              "\n",
              "    [theme=dark] .colab-df-convert {\n",
              "      background-color: #3B4455;\n",
              "      fill: #D2E3FC;\n",
              "    }\n",
              "\n",
              "    [theme=dark] .colab-df-convert:hover {\n",
              "      background-color: #434B5C;\n",
              "      box-shadow: 0px 1px 3px 1px rgba(0, 0, 0, 0.15);\n",
              "      filter: drop-shadow(0px 1px 2px rgba(0, 0, 0, 0.3));\n",
              "      fill: #FFFFFF;\n",
              "    }\n",
              "  </style>\n",
              "\n",
              "      <script>\n",
              "        const buttonEl =\n",
              "          document.querySelector('#df-4620cb11-24ec-4440-8917-3f0d788337e1 button.colab-df-convert');\n",
              "        buttonEl.style.display =\n",
              "          google.colab.kernel.accessAllowed ? 'block' : 'none';\n",
              "\n",
              "        async function convertToInteractive(key) {\n",
              "          const element = document.querySelector('#df-4620cb11-24ec-4440-8917-3f0d788337e1');\n",
              "          const dataTable =\n",
              "            await google.colab.kernel.invokeFunction('convertToInteractive',\n",
              "                                                     [key], {});\n",
              "          if (!dataTable) return;\n",
              "\n",
              "          const docLinkHtml = 'Like what you see? Visit the ' +\n",
              "            '<a target=\"_blank\" href=https://colab.research.google.com/notebooks/data_table.ipynb>data table notebook</a>'\n",
              "            + ' to learn more about interactive tables.';\n",
              "          element.innerHTML = '';\n",
              "          dataTable['output_type'] = 'display_data';\n",
              "          await google.colab.output.renderOutput(dataTable, element);\n",
              "          const docLink = document.createElement('div');\n",
              "          docLink.innerHTML = docLinkHtml;\n",
              "          element.appendChild(docLink);\n",
              "        }\n",
              "      </script>\n",
              "    </div>\n",
              "  </div>\n",
              "  "
            ]
          },
          "metadata": {},
          "execution_count": 184
        }
      ]
    },
    {
      "cell_type": "code",
      "source": [],
      "metadata": {
        "id": "ETrgnLCtEBmx"
      },
      "execution_count": 184,
      "outputs": []
    },
    {
      "cell_type": "code",
      "source": [],
      "metadata": {
        "id": "S0JyZ225FqBk"
      },
      "execution_count": 184,
      "outputs": []
    },
    {
      "cell_type": "markdown",
      "source": [
        "![versicolor.jpg](data:image/jpeg;base64,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)"
      ],
      "metadata": {
        "id": "lbRYGEoHBe0U"
      }
    },
    {
      "cell_type": "markdown",
      "source": [
        "# Data destribution of column SepalLengthCm"
      ],
      "metadata": {
        "id": "9MJ5jzZhT0sp"
      }
    },
    {
      "cell_type": "code",
      "source": [
        "sepal_length = iris_data['SepalLengthCm']\n",
        "\n",
        "# Histogram for this column\n",
        "plt.hist(sepal_length, bins=10)\n",
        "plt.xlabel('sepal_length')\n",
        "plt.ylabel('count')\n",
        "plt.title('Histogram of sepal_length in Iris')\n",
        "plt.show()\n",
        "\n",
        "# Boxplot for this column\n",
        "plt.boxplot(iris_data['SepalLengthCm'])\n",
        "plt.title('Boxplot of Sepal Length')\n",
        "plt.ylabel('Length')\n",
        "plt.show()"
      ],
      "metadata": {
        "colab": {
          "base_uri": "https://localhost:8080/",
          "height": 907
        },
        "id": "GZZ2QHjtFqFs",
        "outputId": "345f0c6e-2308-4dc3-aeaa-27f1f635bf37"
      },
      "execution_count": 185,
      "outputs": [
        {
          "output_type": "display_data",
          "data": {
            "text/plain": [
              "<Figure size 640x480 with 1 Axes>"
            ],
            "image/png": "[encoded data removed]"
          },
          "metadata": {}
        },
        {
          "output_type": "display_data",
          "data": {
            "text/plain": [
              "<Figure size 640x480 with 1 Axes>"
            ],
            "image/png": "[encoded data removed]"
          },
          "metadata": {}
        }
      ]
    },
    {
      "cell_type": "code",
      "source": [
        "print(iris_data['SepalLengthCm'].mean())\n",
        "print(iris_data['SepalLengthCm'].mode()[0])\n",
        "print(iris_data['SepalLengthCm'].median())"
      ],
      "metadata": {
        "colab": {
          "base_uri": "https://localhost:8080/"
        },
        "id": "sR1QceVjDgg4",
        "outputId": "a9c79a64-0c4d-4acc-fb07-c0c107b61450"
      },
      "execution_count": 186,
      "outputs": [
        {
          "output_type": "stream",
          "name": "stdout",
          "text": [
            "5.843333333333334\n",
            "5.0\n",
            "5.8\n"
          ]
        }
      ]
    },
    {
      "cell_type": "code",
      "source": [
        "print(iris_data['SepalLengthCm'].describe())\n"
      ],
      "metadata": {
        "colab": {
          "base_uri": "https://localhost:8080/"
        },
        "id": "Ps5Kf8y6DaET",
        "outputId": "f160e028-17f2-4c40-ea69-94f016f746ca"
      },
      "execution_count": 187,
      "outputs": [
        {
          "output_type": "stream",
          "name": "stdout",
          "text": [
            "count    150.000000\n",
            "mean       5.843333\n",
            "std        0.828066\n",
            "min        4.300000\n",
            "25%        5.100000\n",
            "50%        5.800000\n",
            "75%        6.400000\n",
            "max        7.900000\n",
            "Name: SepalLengthCm, dtype: float64\n"
          ]
        }
      ]
    },
    {
      "cell_type": "code",
      "source": [
        "iris_data['SepalLengthCm'].skew()"
      ],
      "metadata": {
        "colab": {
          "base_uri": "https://localhost:8080/"
        },
        "id": "i99NM1LYUa8C",
        "outputId": "b6813de9-6fde-40e2-b0b0-9f3020b9e39e"
      },
      "execution_count": 188,
      "outputs": [
        {
          "output_type": "execute_result",
          "data": {
            "text/plain": [
              "0.3149109566369728"
            ]
          },
          "metadata": {},
          "execution_count": 188
        }
      ]
    },
    {
      "cell_type": "markdown",
      "source": [
        "# The statistical conclusions for the \"SepalLengthCm\" column in the Iris dataset are as follows:\n",
        "\n",
        "\n",
        "* Count: There are 150 recorded values in the \"SepalLengthCm\" column. This means we have information about the sepal length for 150 iris plants.\n",
        "\n",
        "* Mean: The mean (average) of the \"SepalLengthCm\" values is approximately 5.843333 centimeters. We can use this value as an approximation for the average sepal length in the dataset.\n",
        "\n",
        "* Standard Deviation: The standard deviation of \"SepalLengthCm\" is approximately 0.828066 centimeters. The standard deviation is used to measure the extent of variation in the values around the mean. A higher standard deviation indicates greater variability in the data.\n",
        "\n",
        "* Minimum and Maximum: The minimum value for \"SepalLengthCm\" is 4.3 centimeters, while the maximum value is 7.9 centimeters. This indicates that the longest sepal measured in the dataset is 7.9 centimeters and the shortest sepal is 4.3 centimeters.\n",
        "\n",
        "* Quartiles and Percentiles: We can use quartiles and percentiles to understand the distribution of the data in more detail. The first quartile (25%) is 5.1 centimeters, the median (50%) is 5.8 centimeters, and the third quartile (75%) is 6.4 centimeters. This means that 25% of the sepal length values in the dataset are less than 5.1 centimeters, 50% are less than 5.8 centimeters, and 75% are less than 6.4 centimeters.\n",
        "\n",
        "*  Skewness value is 0.3149109566369728, If the skewness value = 0.3149109566369728 it indicates that the data distribution is close to being perfectly symmetrical. In other words, you have a distribution that is slightly skewed to the right, but this skewness is very small.\n",
        "\n"
      ],
      "metadata": {
        "id": "1pOlF9vaEJyU"
      }
    },
    {
      "cell_type": "code",
      "source": [],
      "metadata": {
        "id": "eF13C0hVPzKJ"
      },
      "execution_count": 188,
      "outputs": []
    },
    {
      "cell_type": "code",
      "source": [],
      "metadata": {
        "id": "41Cdn4ylTPOZ"
      },
      "execution_count": 188,
      "outputs": []
    },
    {
      "cell_type": "code",
      "source": [],
      "metadata": {
        "id": "s_2DOb29TPho"
      },
      "execution_count": 188,
      "outputs": []
    },
    {
      "cell_type": "markdown",
      "source": [
        "# Data destribution of column SepalWidthCm\n",
        "\n",
        "\n"
      ],
      "metadata": {
        "id": "85nTE5OtUEWV"
      }
    },
    {
      "cell_type": "code",
      "source": [
        "sepal_length = iris_data['SepalWidthCm']\n",
        "\n",
        "# Histogram for this column\n",
        "plt.hist(sepal_length, bins=10)\n",
        "plt.xlabel('SepalWidthCm')\n",
        "plt.ylabel('count')\n",
        "plt.title('Histogram of SepalWidthCm in Iris')\n",
        "plt.show()\n",
        "\n",
        "# Boxplot for this column\n",
        "plt.boxplot(iris_data['SepalWidthCm'])\n",
        "plt.title('Boxplot of SepalWidthCm')\n",
        "plt.ylabel('Length')\n",
        "plt.show()\n",
        "\n",
        "print(iris_data['SepalWidthCm'].mean())\n",
        "print(iris_data['SepalWidthCm'].mode()[0])\n",
        "print(iris_data['SepalWidthCm'].median())"
      ],
      "metadata": {
        "colab": {
          "base_uri": "https://localhost:8080/",
          "height": 958
        },
        "id": "LCACaHjPUJKI",
        "outputId": "69820add-4859-4da6-a8e4-86761cdaf9e5"
      },
      "execution_count": 189,
      "outputs": [
        {
          "output_type": "display_data",
          "data": {
            "text/plain": [
              "<Figure size 640x480 with 1 Axes>"
            ],
            "image/png": "[encoded data removed]"
          },
          "metadata": {}
        },
        {
          "output_type": "display_data",
          "data": {
            "text/plain": [
              "<Figure size 640x480 with 1 Axes>"
            ],
            "image/png": "[encoded data removed]"
          },
          "metadata": {}
        },
        {
          "output_type": "stream",
          "name": "stdout",
          "text": [
            "3.0540000000000003\n",
            "3.0\n",
            "3.0\n"
          ]
        }
      ]
    },
    {
      "cell_type": "code",
      "source": [
        "iris_data['SepalWidthCm'].describe()"
      ],
      "metadata": {
        "id": "rLWiXz-2Uyfu",
        "colab": {
          "base_uri": "https://localhost:8080/"
        },
        "outputId": "64899a0c-c4fd-4049-e0ce-0b5e49292f3c"
      },
      "execution_count": 190,
      "outputs": [
        {
          "output_type": "execute_result",
          "data": {
            "text/plain": [
              "count    150.000000\n",
              "mean       3.054000\n",
              "std        0.433594\n",
              "min        2.000000\n",
              "25%        2.800000\n",
              "50%        3.000000\n",
              "75%        3.300000\n",
              "max        4.400000\n",
              "Name: SepalWidthCm, dtype: float64"
            ]
          },
          "metadata": {},
          "execution_count": 190
        }
      ]
    },
    {
      "cell_type": "code",
      "source": [
        "iris_data['SepalWidthCm'].skew()"
      ],
      "metadata": {
        "colab": {
          "base_uri": "https://localhost:8080/"
        },
        "id": "4wEs-JSUSbrf",
        "outputId": "f871df98-9460-46b7-dc32-845c3a3a02cf"
      },
      "execution_count": 191,
      "outputs": [
        {
          "output_type": "execute_result",
          "data": {
            "text/plain": [
              "0.3340526621720866"
            ]
          },
          "metadata": {},
          "execution_count": 191
        }
      ]
    },
    {
      "cell_type": "markdown",
      "source": [
        "# The statistical conclusions for the \"SepalWidthCm\" column in the Iris dataset are as follows:\n",
        "\n",
        "1. Count: There are 150 recorded values in the \"SepalWidthCm\" column. This means we have information about the sepal width for 150 iris plants.\n",
        "\n",
        "2. Mean: The mean (average) of the \"SepalWidthCm\" values is approximately 3.054 centimeters. We can use this value as an approximation for the average sepal width in the dataset.\n",
        "\n",
        "3. Standard Deviation: The standard deviation of \"SepalWidthCm\" is approximately 0.433594 centimeters.\n",
        "\n",
        "4. Minimum and Maximum: The minimum value for \"SepalWidthCm\" is 2.0 centimeters, while the maximum value is 4.4 centimeters. This indicates that the narrowest sepal measured in the dataset is 2.0 centimeters, and the widest sepal is 4.4 centimeters.\n",
        "\n",
        "5. Quartiles and Percentiles: We can use quartiles and percentiles to understand the distribution of the data in more detail. The first quartile (25%) is 2.8 centimeters, the median (50%) is 3.0 centimeters, and the third quartile (75%) is 3.3 centimeters. This means that 25% of the sepal width values in the dataset are less than 2.8 centimeters, 50% are less than 3.0 centimeters, and 75% are less than 3.3 centimeters.\n",
        "\n",
        "6. A skewness value of 0.3340526621720866 suggests that the distribution has a slight right-skew, but it is not highly skewed. It implies that the data may have a few outliers or a slightly longer tail on the right side of the distribution, but the majority of the data is still relatively balanced around the mean."
      ],
      "metadata": {
        "id": "ZuAOQw6OF0AR"
      }
    },
    {
      "cell_type": "code",
      "source": [],
      "metadata": {
        "id": "gVX5-B6JXMEv"
      },
      "execution_count": 191,
      "outputs": []
    },
    {
      "cell_type": "code",
      "source": [],
      "metadata": {
        "id": "sdVmBFI2vGi_"
      },
      "execution_count": 191,
      "outputs": []
    },
    {
      "cell_type": "code",
      "source": [],
      "metadata": {
        "id": "ZCttQlSUvGlO"
      },
      "execution_count": 191,
      "outputs": []
    },
    {
      "cell_type": "markdown",
      "source": [
        "# Data destribution of column PetalLengthCm"
      ],
      "metadata": {
        "id": "m6011PEtvHac"
      }
    },
    {
      "cell_type": "code",
      "source": [
        "# Histogram for this column\n",
        "plt.hist(iris_data['PetalLengthCm'], bins=20)\n",
        "plt.xlabel('PetalLengthCm')\n",
        "plt.ylabel('count')\n",
        "plt.title('Histogram of PetalLengthCm in Iris')\n",
        "plt.show()\n",
        "\n",
        "# Boxplot for this column\n",
        "plt.boxplot(iris_data['PetalLengthCm'])\n",
        "plt.title('Boxplot of PetalLengthCm')\n",
        "plt.ylabel('Length')\n",
        "plt.show()\n"
      ],
      "metadata": {
        "colab": {
          "base_uri": "https://localhost:8080/",
          "height": 907
        },
        "id": "-aGtRfK8vUP7",
        "outputId": "58e04d19-b5ac-46ee-839e-af24d706ad3d"
      },
      "execution_count": 192,
      "outputs": [
        {
          "output_type": "display_data",
          "data": {
            "text/plain": [
              "<Figure size 640x480 with 1 Axes>"
            ],
            "image/png": "[encoded data removed]"
          },
          "metadata": {}
        },
        {
          "output_type": "display_data",
          "data": {
            "text/plain": [
              "<Figure size 640x480 with 1 Axes>"
            ],
            "image/png": "[encoded data removed]"
          },
          "metadata": {}
        }
      ]
    },
    {
      "cell_type": "code",
      "source": [
        "iris_data['PetalLengthCm'].describe()"
      ],
      "metadata": {
        "colab": {
          "base_uri": "https://localhost:8080/"
        },
        "id": "W2hNElcoGMqM",
        "outputId": "1d4216a7-3528-4329-eade-6226b3757540"
      },
      "execution_count": 193,
      "outputs": [
        {
          "output_type": "execute_result",
          "data": {
            "text/plain": [
              "count    150.000000\n",
              "mean       3.758667\n",
              "std        1.764420\n",
              "min        1.000000\n",
              "25%        1.600000\n",
              "50%        4.350000\n",
              "75%        5.100000\n",
              "max        6.900000\n",
              "Name: PetalLengthCm, dtype: float64"
            ]
          },
          "metadata": {},
          "execution_count": 193
        }
      ]
    },
    {
      "cell_type": "code",
      "source": [
        "\n",
        "\n",
        "# Calculate the skewness of the data for this column:\n",
        "skewness = iris_data['PetalLengthCm'].skew()\n",
        "\n",
        "print(\"Skewness:\", skewness)\n"
      ],
      "metadata": {
        "colab": {
          "base_uri": "https://localhost:8080/"
        },
        "id": "eiNCP2bIv-Bh",
        "outputId": "d5e10a3b-ef89-4cdf-ec7e-4320a72330b1"
      },
      "execution_count": 194,
      "outputs": [
        {
          "output_type": "stream",
          "name": "stdout",
          "text": [
            "Skewness: -0.27446425247378287\n"
          ]
        }
      ]
    },
    {
      "cell_type": "markdown",
      "source": [
        "# The statistical conclusions for the \"PetalLengthCm\" column in the Iris dataset are as follows:\n",
        "\n",
        "1. Count: There are 150 recorded values in the \"PetalLengthCm\" column. This means we have information about the petal length for 150 iris plants.\n",
        "\n",
        "2. Mean: The mean (average) of the \"PetalLengthCm\" values is approximately 3.758667 centimeters. We can use this value as an approximation for the average petal length in the dataset.\n",
        "\n",
        "3. Standard Deviation: The standard deviation of \"PetalLengthCm\" is approximately 1.764420 centimeters. The standard deviation is used to measure the extent of variation in the values around the mean. A higher standard deviation indicates greater variability in the data.\n",
        "\n",
        "4. Minimum and Maximum: The minimum value for \"PetalLengthCm\" is 1.0 centimeter, while the maximum value is 6.9 centimeters. This indicates that the shortest petal measured in the dataset is 1.0 centimeter, and the longest petal is 6.9 centimeters.\n",
        "\n",
        "5. Quartiles and Percentiles: We can use quartiles and percentiles to understand the distribution of the data in more detail. The first quartile (25%) is 1.6 centimeters, the median (50%) is 4.35 centimeters, and the third quartile (75%) is 5.1 centimeters. This means that 25% of the petal length values in the dataset are less than 1.6 centimeters, 50% are less than 4.35 centimeters, and 75% are less than 5.1 centimeters.\n",
        "\n",
        "6. Skewness: The skewness of the \"PetalLengthCm\" values is -0.27447. Skewness measures the asymmetry of the distribution. A negative skewness value indicates that the distribution is slightly skewed to the left (tail on the left side), but the magnitude is relatively small in this case."
      ],
      "metadata": {
        "id": "jb7tLzJbG-rv"
      }
    },
    {
      "cell_type": "code",
      "source": [],
      "metadata": {
        "id": "e_MVgGdw3hYV"
      },
      "execution_count": 194,
      "outputs": []
    },
    {
      "cell_type": "code",
      "source": [],
      "metadata": {
        "id": "S0F_9cmr3icT"
      },
      "execution_count": 194,
      "outputs": []
    },
    {
      "cell_type": "markdown",
      "source": [
        "# Data destribution of column PetalWidthCm:"
      ],
      "metadata": {
        "id": "MkJJJ8DG4Wp1"
      }
    },
    {
      "cell_type": "code",
      "source": [
        "#Histogram for this column\n",
        "plt.hist(iris_data['PetalWidthCm'], bins=8)\n",
        "plt.xlabel('PetalWidthCmm')\n",
        "plt.ylabel('count')\n",
        "plt.title('Histogram of PetalWidthCm in Iris')\n",
        "plt.show()\n",
        "\n",
        "# Boxplot for this column\n",
        "plt.boxplot(iris_data['PetalWidthCm'])\n",
        "plt.title('Boxplot of PetalWidthCm')\n",
        "plt.ylabel('Length')\n",
        "plt.show()"
      ],
      "metadata": {
        "colab": {
          "base_uri": "https://localhost:8080/",
          "height": 907
        },
        "id": "3ZVSPVF74h7g",
        "outputId": "01c29db4-7169-4a97-abf7-c9b6a1342f36"
      },
      "execution_count": 195,
      "outputs": [
        {
          "output_type": "display_data",
          "data": {
            "text/plain": [
              "<Figure size 640x480 with 1 Axes>"
            ],
            "image/png": "[encoded data removed]"
          },
          "metadata": {}
        },
        {
          "output_type": "display_data",
          "data": {
            "text/plain": [
              "<Figure size 640x480 with 1 Axes>"
            ],
            "image/png": "[encoded data removed]"
          },
          "metadata": {}
        }
      ]
    },
    {
      "cell_type": "code",
      "source": [
        "iris_data['PetalWidthCm'].describe()"
      ],
      "metadata": {
        "colab": {
          "base_uri": "https://localhost:8080/"
        },
        "id": "3yt6BttNHS_L",
        "outputId": "8ac5926d-fe19-4b6c-c3d2-d6a66316b439"
      },
      "execution_count": 196,
      "outputs": [
        {
          "output_type": "execute_result",
          "data": {
            "text/plain": [
              "count    150.000000\n",
              "mean       1.198667\n",
              "std        0.763161\n",
              "min        0.100000\n",
              "25%        0.300000\n",
              "50%        1.300000\n",
              "75%        1.800000\n",
              "max        2.500000\n",
              "Name: PetalWidthCm, dtype: float64"
            ]
          },
          "metadata": {},
          "execution_count": 196
        }
      ]
    },
    {
      "cell_type": "code",
      "source": [
        "# Calculate the skewness of the data for this column:\n",
        "\n",
        "\n",
        "print(\"Skewness:\", iris_data['PetalWidthCm'].skew())\n"
      ],
      "metadata": {
        "colab": {
          "base_uri": "https://localhost:8080/"
        },
        "id": "RoU-JY9j40Dm",
        "outputId": "9f2ab3ad-d57c-4539-a6cb-18e0502fbfd9"
      },
      "execution_count": 197,
      "outputs": [
        {
          "output_type": "stream",
          "name": "stdout",
          "text": [
            "Skewness: -0.10499656214412734\n"
          ]
        }
      ]
    },
    {
      "cell_type": "code",
      "source": [],
      "metadata": {
        "id": "9UX3Bc87ACxp"
      },
      "execution_count": 197,
      "outputs": []
    },
    {
      "cell_type": "markdown",
      "source": [
        "# The statistical conclusions for the \"PetalWidthCm\" column in the Iris dataset are as follows:\n",
        "\n",
        "1. Count: There are 150 recorded values in the \"PetalWidthCm\" column. This means we have information about the petal width for 150 iris plants.\n",
        "\n",
        "2. Mean: The mean (average) of the \"PetalWidthCm\" values is approximately 1.198667 centimeters. We can use this value as an approximation for the average petal width in the dataset.\n",
        "\n",
        "3. Standard Deviation: The standard deviation of \"PetalWidthCm\" is approximately 0.763161 centimeters.\n",
        "\n",
        "4. Minimum and Maximum: The minimum value for \"PetalWidthCm\" is 0.1 centimeter, while the maximum value is 2.5 centimeters. This indicates that the narrowest petal measured in the dataset is 0.1 centimeter, and the widest petal is 2.5 centimeters.\n",
        "\n",
        "5. Quartiles and Percentiles: We can use quartiles and percentiles to understand the distribution of the data in more detail. The first quartile (25%) is 0.3 centimeters, the median (50%) is 1.3 centimeters, and the third quartile (75%) is 1.8 centimeters. This means that 25% of the petal width values in the dataset are less than 0.3 centimeters, 50% are less than 1.3 centimeters, and 75% are less than 1.8 centimeters.\n",
        "\n",
        "6. Skewness: The skewness of the \"PetalWidthCm\" values is -0.105. Skewness measures the asymmetry of the distribution. In this case, the skewness is slightly negative, indicating a slight left skewness (tail on the left side), but the magnitude is relatively small."
      ],
      "metadata": {
        "id": "ry88Nk4vIED0"
      }
    },
    {
      "cell_type": "code",
      "source": [],
      "metadata": {
        "id": "VkNvDXDiJGrb"
      },
      "execution_count": 197,
      "outputs": []
    },
    {
      "cell_type": "code",
      "source": [
        "plt.figure(figsize=(8, 6))\n",
        "sns.heatmap(\n",
        "iris_data[['SepalLengthCm', 'SepalWidthCm', 'PetalLengthCm', 'PetalWidthCm']].corr(), annot=True, cmap='coolwarm')\n",
        "plt.title('Correlation Heatmap of Previous Columns')\n",
        "plt.show()\n",
        "\n",
        "iris_data[['SepalLengthCm', 'SepalWidthCm', 'PetalLengthCm', 'PetalWidthCm']].corr()\n"
      ],
      "metadata": {
        "colab": {
          "base_uri": "https://localhost:8080/",
          "height": 701
        },
        "id": "pJEgUHNCJG0x",
        "outputId": "7dfea2ed-0a8e-48af-81b6-840f27e40f2a"
      },
      "execution_count": 198,
      "outputs": [
        {
          "output_type": "display_data",
          "data": {
            "text/plain": [
              "<Figure size 800x600 with 2 Axes>"
            ],
            "image/png": "[encoded data removed]"
          },
          "metadata": {}
        },
        {
          "output_type": "execute_result",
          "data": {
            "text/plain": [
              "               SepalLengthCm  SepalWidthCm  PetalLengthCm  PetalWidthCm\n",
              "SepalLengthCm       1.000000     -0.109369       0.871754      0.817954\n",
              "SepalWidthCm       -0.109369      1.000000      -0.420516     -0.356544\n",
              "PetalLengthCm       0.871754     -0.420516       1.000000      0.962757\n",
              "PetalWidthCm        0.817954     -0.356544       0.962757      1.000000"
            ],
            "text/html": [
              "\n",
              "  <div id=\"df-54276bd0-57f5-4d95-9a3b-7179b4229cd3\">\n",
              "    <div class=\"colab-df-container\">\n",
              "      <div>\n",
              "<style scoped>\n",
              "    .dataframe tbody tr th:only-of-type {\n",
              "        vertical-align: middle;\n",
              "    }\n",
              "\n",
              "    .dataframe tbody tr th {\n",
              "        vertical-align: top;\n",
              "    }\n",
              "\n",
              "    .dataframe thead th {\n",
              "        text-align: right;\n",
              "    }\n",
              "</style>\n",
              "<table border=\"1\" class=\"dataframe\">\n",
              "  <thead>\n",
              "    <tr style=\"text-align: right;\">\n",
              "      <th></th>\n",
              "      <th>SepalLengthCm</th>\n",
              "      <th>SepalWidthCm</th>\n",
              "      <th>PetalLengthCm</th>\n",
              "      <th>PetalWidthCm</th>\n",
              "    </tr>\n",
              "  </thead>\n",
              "  <tbody>\n",
              "    <tr>\n",
              "      <th>SepalLengthCm</th>\n",
              "      <td>1.000000</td>\n",
              "      <td>-0.109369</td>\n",
              "      <td>0.871754</td>\n",
              "      <td>0.817954</td>\n",
              "    </tr>\n",
              "    <tr>\n",
              "      <th>SepalWidthCm</th>\n",
              "      <td>-0.109369</td>\n",
              "      <td>1.000000</td>\n",
              "      <td>-0.420516</td>\n",
              "      <td>-0.356544</td>\n",
              "    </tr>\n",
              "    <tr>\n",
              "      <th>PetalLengthCm</th>\n",
              "      <td>0.871754</td>\n",
              "      <td>-0.420516</td>\n",
              "      <td>1.000000</td>\n",
              "      <td>0.962757</td>\n",
              "    </tr>\n",
              "    <tr>\n",
              "      <th>PetalWidthCm</th>\n",
              "      <td>0.817954</td>\n",
              "      <td>-0.356544</td>\n",
              "      <td>0.962757</td>\n",
              "      <td>1.000000</td>\n",
              "    </tr>\n",
              "  </tbody>\n",
              "</table>\n",
              "</div>\n",
              "      <button class=\"colab-df-convert\" onclick=\"convertToInteractive('df-54276bd0-57f5-4d95-9a3b-7179b4229cd3')\"\n",
              "              title=\"Convert this dataframe to an interactive table.\"\n",
              "              style=\"display:none;\">\n",
              "        \n",
              "  <svg xmlns=\"http://www.w3.org/2000/svg\" height=\"24px\"viewBox=\"0 0 24 24\"\n",
              "       width=\"24px\">\n",
              "    <path d=\"M0 0h24v24H0V0z\" fill=\"none\"/>\n",
              "    <path d=\"M18.56 5.44l.94 2.06.94-2.06 2.06-.94-2.06-.94-.94-2.06-.94 2.06-2.06.94zm-11 1L8.5 8.5l.94-2.06 2.06-.94-2.06-.94L8.5 2.5l-.94 2.06-2.06.94zm10 10l.94 2.06.94-2.06 2.06-.94-2.06-.94-.94-2.06-.94 2.06-2.06.94z\"/><path d=\"M17.41 7.96l-1.37-1.37c-.4-.4-.92-.59-1.43-.59-.52 0-1.04.2-1.43.59L10.3 9.45l-7.72 7.72c-.78.78-.78 2.05 0 2.83L4 21.41c.39.39.9.59 1.41.59.51 0 1.02-.2 1.41-.59l7.78-7.78 2.81-2.81c.8-.78.8-2.07 0-2.86zM5.41 20L4 18.59l7.72-7.72 1.47 1.35L5.41 20z\"/>\n",
              "  </svg>\n",
              "      </button>\n",
              "      \n",
              "  <style>\n",
              "    .colab-df-container {\n",
              "      display:flex;\n",
              "      flex-wrap:wrap;\n",
              "      gap: 12px;\n",
              "    }\n",
              "\n",
              "    .colab-df-convert {\n",
              "      background-color: #E8F0FE;\n",
              "      border: none;\n",
              "      border-radius: 50%;\n",
              "      cursor: pointer;\n",
              "      display: none;\n",
              "      fill: #1967D2;\n",
              "      height: 32px;\n",
              "      padding: 0 0 0 0;\n",
              "      width: 32px;\n",
              "    }\n",
              "\n",
              "    .colab-df-convert:hover {\n",
              "      background-color: #E2EBFA;\n",
              "      box-shadow: 0px 1px 2px rgba(60, 64, 67, 0.3), 0px 1px 3px 1px rgba(60, 64, 67, 0.15);\n",
              "      fill: #174EA6;\n",
              "    }\n",
              "\n",
              "    [theme=dark] .colab-df-convert {\n",
              "      background-color: #3B4455;\n",
              "      fill: #D2E3FC;\n",
              "    }\n",
              "\n",
              "    [theme=dark] .colab-df-convert:hover {\n",
              "      background-color: #434B5C;\n",
              "      box-shadow: 0px 1px 3px 1px rgba(0, 0, 0, 0.15);\n",
              "      filter: drop-shadow(0px 1px 2px rgba(0, 0, 0, 0.3));\n",
              "      fill: #FFFFFF;\n",
              "    }\n",
              "  </style>\n",
              "\n",
              "      <script>\n",
              "        const buttonEl =\n",
              "          document.querySelector('#df-54276bd0-57f5-4d95-9a3b-7179b4229cd3 button.colab-df-convert');\n",
              "        buttonEl.style.display =\n",
              "          google.colab.kernel.accessAllowed ? 'block' : 'none';\n",
              "\n",
              "        async function convertToInteractive(key) {\n",
              "          const element = document.querySelector('#df-54276bd0-57f5-4d95-9a3b-7179b4229cd3');\n",
              "          const dataTable =\n",
              "            await google.colab.kernel.invokeFunction('convertToInteractive',\n",
              "                                                     [key], {});\n",
              "          if (!dataTable) return;\n",
              "\n",
              "          const docLinkHtml = 'Like what you see? Visit the ' +\n",
              "            '<a target=\"_blank\" href=https://colab.research.google.com/notebooks/data_table.ipynb>data table notebook</a>'\n",
              "            + ' to learn more about interactive tables.';\n",
              "          element.innerHTML = '';\n",
              "          dataTable['output_type'] = 'display_data';\n",
              "          await google.colab.output.renderOutput(dataTable, element);\n",
              "          const docLink = document.createElement('div');\n",
              "          docLink.innerHTML = docLinkHtml;\n",
              "          element.appendChild(docLink);\n",
              "        }\n",
              "      </script>\n",
              "    </div>\n",
              "  </div>\n",
              "  "
            ]
          },
          "metadata": {},
          "execution_count": 198
        }
      ]
    },
    {
      "cell_type": "markdown",
      "source": [
        "\n",
        "# Some statistical conclusions can be drawn from the above correlation table for the Iris dataset:\n",
        "\n",
        "1. SepalLengthCm and PetalLengthCm: There is a strong positive correlation between SepalLengthCm and PetalLengthCm with a correlation value of 0.871754. This indicates that an increase in sepal length is usually associated with an increase in petal length.\n",
        "\n",
        "2. SepalLengthCm and PetalWidthCm: There is a moderate positive correlation between SepalLengthCm and PetalWidthCm with a correlation value of 0.817954. This suggests that an increase in sepal length may be moderately associated with an increase in petal width.\n",
        "\n",
        "3. SepalWidthCm and PetalLengthCm: There is a moderate negative correlation between SepalWidthCm and PetalLengthCm with a correlation value of -0.420516. This indicates that an increase in sepal width may be moderately associated with a decrease in petal length.\n",
        "\n",
        "4. PetalLengthCm and PetalWidthCm: There is a strong positive correlation between PetalLengthCm and PetalWidthCm with a correlation value of 0.962757. This suggests that an increase in petal length is strongly associated with an increase in petal width.\n",
        "\n",
        "These conclusions are based on the correlation values presented in the above table. It's important to note that correlation does not imply causation, and there may be other underlying factors influencing these relationships."
      ],
      "metadata": {
        "id": "9Sh4KjpkP9vZ"
      }
    },
    {
      "cell_type": "code",
      "source": [],
      "metadata": {
        "id": "wdZ0eNxJP9V1"
      },
      "execution_count": 198,
      "outputs": []
    },
    {
      "cell_type": "code",
      "source": [
        "iris_data.describe()"
      ],
      "metadata": {
        "colab": {
          "base_uri": "https://localhost:8080/",
          "height": 297
        },
        "id": "WG-Ka8QWVzof",
        "outputId": "e26b91d3-c08a-438e-bc50-23cc489c91bc"
      },
      "execution_count": 199,
      "outputs": [
        {
          "output_type": "execute_result",
          "data": {
            "text/plain": [
              "       SepalLengthCm  SepalWidthCm  PetalLengthCm  PetalWidthCm\n",
              "count     150.000000    150.000000     150.000000    150.000000\n",
              "mean        5.843333      3.054000       3.758667      1.198667\n",
              "std         0.828066      0.433594       1.764420      0.763161\n",
              "min         4.300000      2.000000       1.000000      0.100000\n",
              "25%         5.100000      2.800000       1.600000      0.300000\n",
              "50%         5.800000      3.000000       4.350000      1.300000\n",
              "75%         6.400000      3.300000       5.100000      1.800000\n",
              "max         7.900000      4.400000       6.900000      2.500000"
            ],
            "text/html": [
              "\n",
              "  <div id=\"df-89da6ba9-9064-4825-b26b-f01fcba1b44c\">\n",
              "    <div class=\"colab-df-container\">\n",
              "      <div>\n",
              "<style scoped>\n",
              "    .dataframe tbody tr th:only-of-type {\n",
              "        vertical-align: middle;\n",
              "    }\n",
              "\n",
              "    .dataframe tbody tr th {\n",
              "        vertical-align: top;\n",
              "    }\n",
              "\n",
              "    .dataframe thead th {\n",
              "        text-align: right;\n",
              "    }\n",
              "</style>\n",
              "<table border=\"1\" class=\"dataframe\">\n",
              "  <thead>\n",
              "    <tr style=\"text-align: right;\">\n",
              "      <th></th>\n",
              "      <th>SepalLengthCm</th>\n",
              "      <th>SepalWidthCm</th>\n",
              "      <th>PetalLengthCm</th>\n",
              "      <th>PetalWidthCm</th>\n",
              "    </tr>\n",
              "  </thead>\n",
              "  <tbody>\n",
              "    <tr>\n",
              "      <th>count</th>\n",
              "      <td>150.000000</td>\n",
              "      <td>150.000000</td>\n",
              "      <td>150.000000</td>\n",
              "      <td>150.000000</td>\n",
              "    </tr>\n",
              "    <tr>\n",
              "      <th>mean</th>\n",
              "      <td>5.843333</td>\n",
              "      <td>3.054000</td>\n",
              "      <td>3.758667</td>\n",
              "      <td>1.198667</td>\n",
              "    </tr>\n",
              "    <tr>\n",
              "      <th>std</th>\n",
              "      <td>0.828066</td>\n",
              "      <td>0.433594</td>\n",
              "      <td>1.764420</td>\n",
              "      <td>0.763161</td>\n",
              "    </tr>\n",
              "    <tr>\n",
              "      <th>min</th>\n",
              "      <td>4.300000</td>\n",
              "      <td>2.000000</td>\n",
              "      <td>1.000000</td>\n",
              "      <td>0.100000</td>\n",
              "    </tr>\n",
              "    <tr>\n",
              "      <th>25%</th>\n",
              "      <td>5.100000</td>\n",
              "      <td>2.800000</td>\n",
              "      <td>1.600000</td>\n",
              "      <td>0.300000</td>\n",
              "    </tr>\n",
              "    <tr>\n",
              "      <th>50%</th>\n",
              "      <td>5.800000</td>\n",
              "      <td>3.000000</td>\n",
              "      <td>4.350000</td>\n",
              "      <td>1.300000</td>\n",
              "    </tr>\n",
              "    <tr>\n",
              "      <th>75%</th>\n",
              "      <td>6.400000</td>\n",
              "      <td>3.300000</td>\n",
              "      <td>5.100000</td>\n",
              "      <td>1.800000</td>\n",
              "    </tr>\n",
              "    <tr>\n",
              "      <th>max</th>\n",
              "      <td>7.900000</td>\n",
              "      <td>4.400000</td>\n",
              "      <td>6.900000</td>\n",
              "      <td>2.500000</td>\n",
              "    </tr>\n",
              "  </tbody>\n",
              "</table>\n",
              "</div>\n",
              "      <button class=\"colab-df-convert\" onclick=\"convertToInteractive('df-89da6ba9-9064-4825-b26b-f01fcba1b44c')\"\n",
              "              title=\"Convert this dataframe to an interactive table.\"\n",
              "              style=\"display:none;\">\n",
              "        \n",
              "  <svg xmlns=\"http://www.w3.org/2000/svg\" height=\"24px\"viewBox=\"0 0 24 24\"\n",
              "       width=\"24px\">\n",
              "    <path d=\"M0 0h24v24H0V0z\" fill=\"none\"/>\n",
              "    <path d=\"M18.56 5.44l.94 2.06.94-2.06 2.06-.94-2.06-.94-.94-2.06-.94 2.06-2.06.94zm-11 1L8.5 8.5l.94-2.06 2.06-.94-2.06-.94L8.5 2.5l-.94 2.06-2.06.94zm10 10l.94 2.06.94-2.06 2.06-.94-2.06-.94-.94-2.06-.94 2.06-2.06.94z\"/><path d=\"M17.41 7.96l-1.37-1.37c-.4-.4-.92-.59-1.43-.59-.52 0-1.04.2-1.43.59L10.3 9.45l-7.72 7.72c-.78.78-.78 2.05 0 2.83L4 21.41c.39.39.9.59 1.41.59.51 0 1.02-.2 1.41-.59l7.78-7.78 2.81-2.81c.8-.78.8-2.07 0-2.86zM5.41 20L4 18.59l7.72-7.72 1.47 1.35L5.41 20z\"/>\n",
              "  </svg>\n",
              "      </button>\n",
              "      \n",
              "  <style>\n",
              "    .colab-df-container {\n",
              "      display:flex;\n",
              "      flex-wrap:wrap;\n",
              "      gap: 12px;\n",
              "    }\n",
              "\n",
              "    .colab-df-convert {\n",
              "      background-color: #E8F0FE;\n",
              "      border: none;\n",
              "      border-radius: 50%;\n",
              "      cursor: pointer;\n",
              "      display: none;\n",
              "      fill: #1967D2;\n",
              "      height: 32px;\n",
              "      padding: 0 0 0 0;\n",
              "      width: 32px;\n",
              "    }\n",
              "\n",
              "    .colab-df-convert:hover {\n",
              "      background-color: #E2EBFA;\n",
              "      box-shadow: 0px 1px 2px rgba(60, 64, 67, 0.3), 0px 1px 3px 1px rgba(60, 64, 67, 0.15);\n",
              "      fill: #174EA6;\n",
              "    }\n",
              "\n",
              "    [theme=dark] .colab-df-convert {\n",
              "      background-color: #3B4455;\n",
              "      fill: #D2E3FC;\n",
              "    }\n",
              "\n",
              "    [theme=dark] .colab-df-convert:hover {\n",
              "      background-color: #434B5C;\n",
              "      box-shadow: 0px 1px 3px 1px rgba(0, 0, 0, 0.15);\n",
              "      filter: drop-shadow(0px 1px 2px rgba(0, 0, 0, 0.3));\n",
              "      fill: #FFFFFF;\n",
              "    }\n",
              "  </style>\n",
              "\n",
              "      <script>\n",
              "        const buttonEl =\n",
              "          document.querySelector('#df-89da6ba9-9064-4825-b26b-f01fcba1b44c button.colab-df-convert');\n",
              "        buttonEl.style.display =\n",
              "          google.colab.kernel.accessAllowed ? 'block' : 'none';\n",
              "\n",
              "        async function convertToInteractive(key) {\n",
              "          const element = document.querySelector('#df-89da6ba9-9064-4825-b26b-f01fcba1b44c');\n",
              "          const dataTable =\n",
              "            await google.colab.kernel.invokeFunction('convertToInteractive',\n",
              "                                                     [key], {});\n",
              "          if (!dataTable) return;\n",
              "\n",
              "          const docLinkHtml = 'Like what you see? Visit the ' +\n",
              "            '<a target=\"_blank\" href=https://colab.research.google.com/notebooks/data_table.ipynb>data table notebook</a>'\n",
              "            + ' to learn more about interactive tables.';\n",
              "          element.innerHTML = '';\n",
              "          dataTable['output_type'] = 'display_data';\n",
              "          await google.colab.output.renderOutput(dataTable, element);\n",
              "          const docLink = document.createElement('div');\n",
              "          docLink.innerHTML = docLinkHtml;\n",
              "          element.appendChild(docLink);\n",
              "        }\n",
              "      </script>\n",
              "    </div>\n",
              "  </div>\n",
              "  "
            ]
          },
          "metadata": {},
          "execution_count": 199
        }
      ]
    },
    {
      "cell_type": "markdown",
      "source": [
        "# Clustring"
      ],
      "metadata": {
        "id": "rDKELJ9khEdi"
      }
    },
    {
      "cell_type": "markdown",
      "source": [
        "## Mapping the Species as the following :\n",
        "* 'Iris-setosa': 0.\n",
        "* 'Iris-versicolor': 1.\n",
        "* 'Iris-virginica': 2.\n",
        "\n",
        "\n"
      ],
      "metadata": {
        "id": "SaR6mdbfxnlf"
      }
    },
    {
      "cell_type": "code",
      "source": [
        "iris_data= pd.read_csv('/content/drive/MyDrive/Iris_data.csv')"
      ],
      "metadata": {
        "id": "eGPzvZ50yqri"
      },
      "execution_count": 200,
      "outputs": []
    },
    {
      "cell_type": "code",
      "source": [
        "# Define the mapping dictionary\n",
        "mapping = {'Iris-setosa': 0, 'Iris-versicolor': 1, 'Iris-virginica': 2}\n",
        "\n",
        "# Apply the mapping to the 'Species' column\n",
        "iris_data['Species_Category'] = iris_data['Species'].map(mapping)\n",
        "\n",
        "# Print the resulting DataFrame\n",
        "iris_data.head()"
      ],
      "metadata": {
        "colab": {
          "base_uri": "https://localhost:8080/",
          "height": 204
        },
        "id": "jh4ybYMChISk",
        "outputId": "e53df4ff-f328-4c63-82e9-4ae95e4b025b"
      },
      "execution_count": 201,
      "outputs": [
        {
          "output_type": "execute_result",
          "data": {
            "text/plain": [
              "   SepalLengthCm  SepalWidthCm  PetalLengthCm  PetalWidthCm      Species  \\\n",
              "0            5.1           3.5            1.4           0.2  Iris-setosa   \n",
              "1            4.9           3.0            1.4           0.2  Iris-setosa   \n",
              "2            4.7           3.2            1.3           0.2  Iris-setosa   \n",
              "3            4.6           3.1            1.5           0.2  Iris-setosa   \n",
              "4            5.0           3.6            1.4           0.2  Iris-setosa   \n",
              "\n",
              "   Species_Category  \n",
              "0                 0  \n",
              "1                 0  \n",
              "2                 0  \n",
              "3                 0  \n",
              "4                 0  "
            ],
            "text/html": [
              "\n",
              "  <div id=\"df-2c05088b-f951-4941-82a3-b91ba86786f3\">\n",
              "    <div class=\"colab-df-container\">\n",
              "      <div>\n",
              "<style scoped>\n",
              "    .dataframe tbody tr th:only-of-type {\n",
              "        vertical-align: middle;\n",
              "    }\n",
              "\n",
              "    .dataframe tbody tr th {\n",
              "        vertical-align: top;\n",
              "    }\n",
              "\n",
              "    .dataframe thead th {\n",
              "        text-align: right;\n",
              "    }\n",
              "</style>\n",
              "<table border=\"1\" class=\"dataframe\">\n",
              "  <thead>\n",
              "    <tr style=\"text-align: right;\">\n",
              "      <th></th>\n",
              "      <th>SepalLengthCm</th>\n",
              "      <th>SepalWidthCm</th>\n",
              "      <th>PetalLengthCm</th>\n",
              "      <th>PetalWidthCm</th>\n",
              "      <th>Species</th>\n",
              "      <th>Species_Category</th>\n",
              "    </tr>\n",
              "  </thead>\n",
              "  <tbody>\n",
              "    <tr>\n",
              "      <th>0</th>\n",
              "      <td>5.1</td>\n",
              "      <td>3.5</td>\n",
              "      <td>1.4</td>\n",
              "      <td>0.2</td>\n",
              "      <td>Iris-setosa</td>\n",
              "      <td>0</td>\n",
              "    </tr>\n",
              "    <tr>\n",
              "      <th>1</th>\n",
              "      <td>4.9</td>\n",
              "      <td>3.0</td>\n",
              "      <td>1.4</td>\n",
              "      <td>0.2</td>\n",
              "      <td>Iris-setosa</td>\n",
              "      <td>0</td>\n",
              "    </tr>\n",
              "    <tr>\n",
              "      <th>2</th>\n",
              "      <td>4.7</td>\n",
              "      <td>3.2</td>\n",
              "      <td>1.3</td>\n",
              "      <td>0.2</td>\n",
              "      <td>Iris-setosa</td>\n",
              "      <td>0</td>\n",
              "    </tr>\n",
              "    <tr>\n",
              "      <th>3</th>\n",
              "      <td>4.6</td>\n",
              "      <td>3.1</td>\n",
              "      <td>1.5</td>\n",
              "      <td>0.2</td>\n",
              "      <td>Iris-setosa</td>\n",
              "      <td>0</td>\n",
              "    </tr>\n",
              "    <tr>\n",
              "      <th>4</th>\n",
              "      <td>5.0</td>\n",
              "      <td>3.6</td>\n",
              "      <td>1.4</td>\n",
              "      <td>0.2</td>\n",
              "      <td>Iris-setosa</td>\n",
              "      <td>0</td>\n",
              "    </tr>\n",
              "  </tbody>\n",
              "</table>\n",
              "</div>\n",
              "      <button class=\"colab-df-convert\" onclick=\"convertToInteractive('df-2c05088b-f951-4941-82a3-b91ba86786f3')\"\n",
              "              title=\"Convert this dataframe to an interactive table.\"\n",
              "              style=\"display:none;\">\n",
              "        \n",
              "  <svg xmlns=\"http://www.w3.org/2000/svg\" height=\"24px\"viewBox=\"0 0 24 24\"\n",
              "       width=\"24px\">\n",
              "    <path d=\"M0 0h24v24H0V0z\" fill=\"none\"/>\n",
              "    <path d=\"M18.56 5.44l.94 2.06.94-2.06 2.06-.94-2.06-.94-.94-2.06-.94 2.06-2.06.94zm-11 1L8.5 8.5l.94-2.06 2.06-.94-2.06-.94L8.5 2.5l-.94 2.06-2.06.94zm10 10l.94 2.06.94-2.06 2.06-.94-2.06-.94-.94-2.06-.94 2.06-2.06.94z\"/><path d=\"M17.41 7.96l-1.37-1.37c-.4-.4-.92-.59-1.43-.59-.52 0-1.04.2-1.43.59L10.3 9.45l-7.72 7.72c-.78.78-.78 2.05 0 2.83L4 21.41c.39.39.9.59 1.41.59.51 0 1.02-.2 1.41-.59l7.78-7.78 2.81-2.81c.8-.78.8-2.07 0-2.86zM5.41 20L4 18.59l7.72-7.72 1.47 1.35L5.41 20z\"/>\n",
              "  </svg>\n",
              "      </button>\n",
              "      \n",
              "  <style>\n",
              "    .colab-df-container {\n",
              "      display:flex;\n",
              "      flex-wrap:wrap;\n",
              "      gap: 12px;\n",
              "    }\n",
              "\n",
              "    .colab-df-convert {\n",
              "      background-color: #E8F0FE;\n",
              "      border: none;\n",
              "      border-radius: 50%;\n",
              "      cursor: pointer;\n",
              "      display: none;\n",
              "      fill: #1967D2;\n",
              "      height: 32px;\n",
              "      padding: 0 0 0 0;\n",
              "      width: 32px;\n",
              "    }\n",
              "\n",
              "    .colab-df-convert:hover {\n",
              "      background-color: #E2EBFA;\n",
              "      box-shadow: 0px 1px 2px rgba(60, 64, 67, 0.3), 0px 1px 3px 1px rgba(60, 64, 67, 0.15);\n",
              "      fill: #174EA6;\n",
              "    }\n",
              "\n",
              "    [theme=dark] .colab-df-convert {\n",
              "      background-color: #3B4455;\n",
              "      fill: #D2E3FC;\n",
              "    }\n",
              "\n",
              "    [theme=dark] .colab-df-convert:hover {\n",
              "      background-color: #434B5C;\n",
              "      box-shadow: 0px 1px 3px 1px rgba(0, 0, 0, 0.15);\n",
              "      filter: drop-shadow(0px 1px 2px rgba(0, 0, 0, 0.3));\n",
              "      fill: #FFFFFF;\n",
              "    }\n",
              "  </style>\n",
              "\n",
              "      <script>\n",
              "        const buttonEl =\n",
              "          document.querySelector('#df-2c05088b-f951-4941-82a3-b91ba86786f3 button.colab-df-convert');\n",
              "        buttonEl.style.display =\n",
              "          google.colab.kernel.accessAllowed ? 'block' : 'none';\n",
              "\n",
              "        async function convertToInteractive(key) {\n",
              "          const element = document.querySelector('#df-2c05088b-f951-4941-82a3-b91ba86786f3');\n",
              "          const dataTable =\n",
              "            await google.colab.kernel.invokeFunction('convertToInteractive',\n",
              "                                                     [key], {});\n",
              "          if (!dataTable) return;\n",
              "\n",
              "          const docLinkHtml = 'Like what you see? Visit the ' +\n",
              "            '<a target=\"_blank\" href=https://colab.research.google.com/notebooks/data_table.ipynb>data table notebook</a>'\n",
              "            + ' to learn more about interactive tables.';\n",
              "          element.innerHTML = '';\n",
              "          dataTable['output_type'] = 'display_data';\n",
              "          await google.colab.output.renderOutput(dataTable, element);\n",
              "          const docLink = document.createElement('div');\n",
              "          docLink.innerHTML = docLinkHtml;\n",
              "          element.appendChild(docLink);\n",
              "        }\n",
              "      </script>\n",
              "    </div>\n",
              "  </div>\n",
              "  "
            ]
          },
          "metadata": {},
          "execution_count": 201
        }
      ]
    },
    {
      "cell_type": "code",
      "source": [
        "\n",
        "#Dlelete iris_data df\n",
        "del iris_data\n",
        "\n",
        "\n",
        "# reading data\n",
        "iris_data= pd.read_csv('/content/drive/MyDrive/Iris_data.csv')\n",
        "\n",
        "# Define the mapping dictionary\n",
        "mapping = {'Iris-setosa': 0, 'Iris-versicolor': 1, 'Iris-virginica': 2}\n",
        "\n",
        "# Apply the mapping to the 'Species' column\n",
        "iris_data['Species_Category'] = iris_data['Species'].map(mapping)\n",
        "\n",
        "\n",
        "\n",
        "# Separate the features from the target variable\n",
        "features = iris_data[['SepalLengthCm', 'SepalWidthCm', 'PetalLengthCm', 'PetalWidthCm']]\n",
        "\n",
        "# Perform clustering using K-means\n",
        "kmeans = KMeans(n_clusters=3, random_state= 21)\n",
        "kmeans.fit(features)\n",
        "\n",
        "# Get the cluster labels for each data point\n",
        "labels = kmeans.labels_\n",
        "\n",
        "# Add the cluster labels to the DataFrame\n",
        "iris_data['Cluster'] = labels\n",
        "\n",
        "\n"
      ],
      "metadata": {
        "colab": {
          "base_uri": "https://localhost:8080/"
        },
        "id": "4hUAgL2WzJGI",
        "outputId": "508e81aa-2352-43c8-f35d-607f04ac5e66"
      },
      "execution_count": 202,
      "outputs": [
        {
          "output_type": "stream",
          "name": "stderr",
          "text": [
            "/usr/local/lib/python3.10/dist-packages/sklearn/cluster/_kmeans.py:870: FutureWarning: The default value of `n_init` will change from 10 to 'auto' in 1.4. Set the value of `n_init` explicitly to suppress the warning\n",
            "  warnings.warn(\n"
          ]
        }
      ]
    },
    {
      "cell_type": "code",
      "source": [
        "total_cluster = iris_data['Cluster'].sum()\n",
        "total_Species_Category = iris_data['Species_Category'].sum()\n",
        "\n",
        "# accourase is =\n",
        "print (\"accourase is =\", total_cluster / total_Species_Category * 100 ,\"\\t %\")"
      ],
      "metadata": {
        "colab": {
          "base_uri": "https://localhost:8080/"
        },
        "id": "X0IV2f_O0mvh",
        "outputId": "740deb9e-a90e-4636-8827-b25593be9730"
      },
      "execution_count": 203,
      "outputs": [
        {
          "output_type": "stream",
          "name": "stdout",
          "text": [
            "accourase is = 84.0 \t %\n"
          ]
        }
      ]
    },
    {
      "cell_type": "markdown",
      "source": [
        "# The statistical conclusions of clustering model are as follows:\n",
        "\n",
        "Based on the iris_data, the machine learning model achieved an accuracy of 84%. This means that the model was able to correctly classify 84% of the instances in the dataset. It indicates a relatively good performance of the model in terms of predicting the class labels of the iris flowers.\n"
      ],
      "metadata": {
        "id": "tTwfVtbotkBz"
      }
    },
    {
      "cell_type": "code",
      "source": [],
      "metadata": {
        "id": "aQhDRzEMukcT"
      },
      "execution_count": 203,
      "outputs": []
    },
    {
      "cell_type": "markdown",
      "source": [
        "# Resouces:\n",
        "\n",
        "\n",
        "*   Chatgpt\n",
        "*   https://statisticsbyjim.com/basics/skewed-distribution/\n",
        "*   https://byjus.com/maths/histogram/\n",
        "*   https://statisticsbyjim.com/basics/bimodal-distribution/\n",
        "*   https://www.snaplogic.com/machine-learning-showcase/iris-flower-classification\n",
        "\n",
        "\n"
      ],
      "metadata": {
        "id": "78sHaAgcX0EI"
      }
    },
    {
      "cell_type": "code",
      "source": [],
      "metadata": {
        "id": "ekH29JhAMncj"
      },
      "execution_count": null,
      "outputs": []
    }
  ]
}